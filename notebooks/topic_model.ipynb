{
 "cells": [
  {
   "cell_type": "code",
   "execution_count": 35,
   "metadata": {},
   "outputs": [
    {
     "name": "stdout",
     "output_type": "stream",
     "text": [
      "The autoreload extension is already loaded. To reload it, use:\n",
      "  %reload_ext autoreload\n"
     ]
    }
   ],
   "source": [
    "import sys\n",
    "import random\n",
    "from pprint import pprint\n",
    "\n",
    "import pandas as pd\n",
    "import numpy as np\n",
    "import pyLDAvis.gensim\n",
    "import pyLDAvis\n",
    "import matplotlib.pyplot as plt\n",
    "\n",
    "from twitpol import config, language, topic_modelling\n",
    "\n",
    "if '..' not in sys.path:\n",
    "    sys.path.append('..')\n",
    "    \n",
    "from src.supp_analysis import topic_modelling_and_collocation as tmac\n",
    "\n",
    "%load_ext autoreload\n",
    "%autoreload 2\n",
    "\n",
    "%matplotlib inline"
   ]
  },
  {
   "cell_type": "code",
   "execution_count": 2,
   "metadata": {},
   "outputs": [
    {
     "name": "stdout",
     "output_type": "stream",
     "text": [
      "The autoreload extension is already loaded. To reload it, use:\n",
      "  %reload_ext autoreload\n"
     ]
    }
   ],
   "source": [
    "\n",
    "%load_ext autoreload\n",
    "%autoreload 2"
   ]
  },
  {
   "cell_type": "code",
   "execution_count": 3,
   "metadata": {},
   "outputs": [],
   "source": [
    "nlp = language.get_nlp()"
   ]
  },
  {
   "cell_type": "code",
   "execution_count": 4,
   "metadata": {},
   "outputs": [
    {
     "name": "stderr",
     "output_type": "stream",
     "text": [
      "/Users/benjaminlevy/anaconda/envs/twitpol-env/lib/python3.7/site-packages/numpy/lib/arraysetops.py:568: FutureWarning: elementwise comparison failed; returning scalar instead, but in the future will perform elementwise comparison\n",
      "  mask |= (ar1 == a)\n"
     ]
    },
    {
     "name": "stdout",
     "output_type": "stream",
     "text": [
      "(3979785, 4)\n"
     ]
    }
   ],
   "source": [
    "corpus = tmac.load_corpus()"
   ]
  },
  {
   "cell_type": "code",
   "execution_count": 5,
   "metadata": {},
   "outputs": [
    {
     "data": {
      "text/html": [
       "<div>\n",
       "<style scoped>\n",
       "    .dataframe tbody tr th:only-of-type {\n",
       "        vertical-align: middle;\n",
       "    }\n",
       "\n",
       "    .dataframe tbody tr th {\n",
       "        vertical-align: top;\n",
       "    }\n",
       "\n",
       "    .dataframe thead th {\n",
       "        text-align: right;\n",
       "    }\n",
       "</style>\n",
       "<table border=\"1\" class=\"dataframe\">\n",
       "  <thead>\n",
       "    <tr style=\"text-align: right;\">\n",
       "      <th></th>\n",
       "      <th>tweet</th>\n",
       "      <th>nlikes</th>\n",
       "      <th>DateTime</th>\n",
       "      <th>Sentiment</th>\n",
       "    </tr>\n",
       "  </thead>\n",
       "  <tbody>\n",
       "    <tr>\n",
       "      <th>0</th>\n",
       "      <td>Yes, I agree the workday should be shortened, ...</td>\n",
       "      <td>1.0</td>\n",
       "      <td>2019-11-07</td>\n",
       "      <td>0.503561</td>\n",
       "    </tr>\n",
       "    <tr>\n",
       "      <th>1</th>\n",
       "      <td>People think that businesses care more about p...</td>\n",
       "      <td>4.0</td>\n",
       "      <td>2019-11-07</td>\n",
       "      <td>0.740527</td>\n",
       "    </tr>\n",
       "    <tr>\n",
       "      <th>2</th>\n",
       "      <td>@amyklobuchar is rising, surging past Kamala H...</td>\n",
       "      <td>0.0</td>\n",
       "      <td>2019-11-07</td>\n",
       "      <td>0.909588</td>\n",
       "    </tr>\n",
       "    <tr>\n",
       "      <th>3</th>\n",
       "      <td>I truly hope so. All this outrage and fake hea...</td>\n",
       "      <td>1.0</td>\n",
       "      <td>2019-11-07</td>\n",
       "      <td>0.222077</td>\n",
       "    </tr>\n",
       "    <tr>\n",
       "      <th>4</th>\n",
       "      <td>She did, and I like Kamala. But @JulianCastro ...</td>\n",
       "      <td>244.0</td>\n",
       "      <td>2019-11-07</td>\n",
       "      <td>0.544374</td>\n",
       "    </tr>\n",
       "  </tbody>\n",
       "</table>\n",
       "</div>"
      ],
      "text/plain": [
       "                                               tweet  nlikes    DateTime  \\\n",
       "0  Yes, I agree the workday should be shortened, ...     1.0  2019-11-07   \n",
       "1  People think that businesses care more about p...     4.0  2019-11-07   \n",
       "2  @amyklobuchar is rising, surging past Kamala H...     0.0  2019-11-07   \n",
       "3  I truly hope so. All this outrage and fake hea...     1.0  2019-11-07   \n",
       "4  She did, and I like Kamala. But @JulianCastro ...   244.0  2019-11-07   \n",
       "\n",
       "   Sentiment  \n",
       "0   0.503561  \n",
       "1   0.740527  \n",
       "2   0.909588  \n",
       "3   0.222077  \n",
       "4   0.544374  "
      ]
     },
     "execution_count": 5,
     "metadata": {},
     "output_type": "execute_result"
    }
   ],
   "source": [
    "corpus.head()"
   ]
  },
  {
   "cell_type": "code",
   "execution_count": 6,
   "metadata": {},
   "outputs": [
    {
     "name": "stderr",
     "output_type": "stream",
     "text": [
      "\r",
      "  0%|          | 0/3979785 [00:00<?, ?it/s]"
     ]
    },
    {
     "name": "stdout",
     "output_type": "stream",
     "text": [
      "Checking if tweets match SANDERS\n"
     ]
    },
    {
     "name": "stderr",
     "output_type": "stream",
     "text": [
      "100%|██████████| 3979785/3979785 [00:07<00:00, 509314.82it/s]\n",
      "  0%|          | 6868/3979785 [00:00<00:57, 68678.59it/s]"
     ]
    },
    {
     "name": "stdout",
     "output_type": "stream",
     "text": [
      "Checking if tweets match HARRIS\n"
     ]
    },
    {
     "name": "stderr",
     "output_type": "stream",
     "text": [
      "100%|██████████| 3979785/3979785 [00:07<00:00, 543549.52it/s]\n",
      "  0%|          | 11614/3979785 [00:00<00:34, 116139.83it/s]"
     ]
    },
    {
     "name": "stdout",
     "output_type": "stream",
     "text": [
      "Checking if tweets match BIDEN\n"
     ]
    },
    {
     "name": "stderr",
     "output_type": "stream",
     "text": [
      "100%|██████████| 3979785/3979785 [00:07<00:00, 538697.69it/s]\n",
      "  0%|          | 5461/3979785 [00:00<01:12, 54608.88it/s]"
     ]
    },
    {
     "name": "stdout",
     "output_type": "stream",
     "text": [
      "Checking if tweets match BUTTIGIEG\n"
     ]
    },
    {
     "name": "stderr",
     "output_type": "stream",
     "text": [
      "100%|██████████| 3979785/3979785 [00:07<00:00, 551716.64it/s]\n",
      "  0%|          | 4221/3979785 [00:00<01:34, 42209.64it/s]"
     ]
    },
    {
     "name": "stdout",
     "output_type": "stream",
     "text": [
      "Checking if tweets match BOOKER\n"
     ]
    },
    {
     "name": "stderr",
     "output_type": "stream",
     "text": [
      "100%|██████████| 3979785/3979785 [00:08<00:00, 489709.65it/s]\n",
      "  0%|          | 5087/3979785 [00:00<01:18, 50869.56it/s]"
     ]
    },
    {
     "name": "stdout",
     "output_type": "stream",
     "text": [
      "Checking if tweets match OROURKE\n"
     ]
    },
    {
     "name": "stderr",
     "output_type": "stream",
     "text": [
      "100%|██████████| 3979785/3979785 [00:08<00:00, 472691.78it/s]\n",
      "  0%|          | 1/3979785 [00:00<142:07:08,  7.78it/s]"
     ]
    },
    {
     "name": "stdout",
     "output_type": "stream",
     "text": [
      "Checking if tweets match WARREN\n"
     ]
    },
    {
     "name": "stderr",
     "output_type": "stream",
     "text": [
      "100%|██████████| 3979785/3979785 [00:10<00:00, 391439.31it/s]\n"
     ]
    }
   ],
   "source": [
    "corpus = tmac.match_to_candidates(corpus)"
   ]
  },
  {
   "cell_type": "code",
   "execution_count": 7,
   "metadata": {},
   "outputs": [
    {
     "data": {
      "text/plain": [
       "77392"
      ]
     },
     "execution_count": 7,
     "metadata": {},
     "output_type": "execute_result"
    }
   ],
   "source": [
    "len(corpus[corpus['OROURKE']])"
   ]
  },
  {
   "cell_type": "code",
   "execution_count": 8,
   "metadata": {},
   "outputs": [
    {
     "data": {
      "text/html": [
       "<div>\n",
       "<style scoped>\n",
       "    .dataframe tbody tr th:only-of-type {\n",
       "        vertical-align: middle;\n",
       "    }\n",
       "\n",
       "    .dataframe tbody tr th {\n",
       "        vertical-align: top;\n",
       "    }\n",
       "\n",
       "    .dataframe thead th {\n",
       "        text-align: right;\n",
       "    }\n",
       "</style>\n",
       "<table border=\"1\" class=\"dataframe\">\n",
       "  <thead>\n",
       "    <tr style=\"text-align: right;\">\n",
       "      <th></th>\n",
       "      <th>tweet</th>\n",
       "      <th>SANDERS</th>\n",
       "      <th>HARRIS</th>\n",
       "      <th>BIDEN</th>\n",
       "      <th>BUTTIGIEG</th>\n",
       "      <th>BOOKER</th>\n",
       "      <th>OROURKE</th>\n",
       "      <th>WARREN</th>\n",
       "    </tr>\n",
       "  </thead>\n",
       "  <tbody>\n",
       "    <tr>\n",
       "      <th>124139</th>\n",
       "      <td>Yes, Bernie - I agree with you.  Now, exit sta...</td>\n",
       "      <td>True</td>\n",
       "      <td>False</td>\n",
       "      <td>False</td>\n",
       "      <td>False</td>\n",
       "      <td>False</td>\n",
       "      <td>False</td>\n",
       "      <td>False</td>\n",
       "    </tr>\n",
       "    <tr>\n",
       "      <th>358478</th>\n",
       "      <td>? We need to end corruption in politics \\n\\n? ...</td>\n",
       "      <td>False</td>\n",
       "      <td>True</td>\n",
       "      <td>False</td>\n",
       "      <td>False</td>\n",
       "      <td>False</td>\n",
       "      <td>False</td>\n",
       "      <td>False</td>\n",
       "    </tr>\n",
       "    <tr>\n",
       "      <th>726695</th>\n",
       "      <td>“Fair share” still won’t be enough to pay for ...</td>\n",
       "      <td>False</td>\n",
       "      <td>False</td>\n",
       "      <td>False</td>\n",
       "      <td>False</td>\n",
       "      <td>False</td>\n",
       "      <td>False</td>\n",
       "      <td>False</td>\n",
       "    </tr>\n",
       "    <tr>\n",
       "      <th>110511</th>\n",
       "      <td>Authenic? Yeah, Joe \"May I speak to your lobby...</td>\n",
       "      <td>False</td>\n",
       "      <td>False</td>\n",
       "      <td>True</td>\n",
       "      <td>False</td>\n",
       "      <td>False</td>\n",
       "      <td>False</td>\n",
       "      <td>False</td>\n",
       "    </tr>\n",
       "    <tr>\n",
       "      <th>976345</th>\n",
       "      <td>Yes!! \\n\\nI’m a Bernie supporter. I hope the P...</td>\n",
       "      <td>True</td>\n",
       "      <td>False</td>\n",
       "      <td>False</td>\n",
       "      <td>False</td>\n",
       "      <td>False</td>\n",
       "      <td>False</td>\n",
       "      <td>False</td>\n",
       "    </tr>\n",
       "    <tr>\n",
       "      <th>84806</th>\n",
       "      <td>The precedent has been set...do release your t...</td>\n",
       "      <td>True</td>\n",
       "      <td>False</td>\n",
       "      <td>False</td>\n",
       "      <td>False</td>\n",
       "      <td>False</td>\n",
       "      <td>False</td>\n",
       "      <td>False</td>\n",
       "    </tr>\n",
       "    <tr>\n",
       "      <th>443134</th>\n",
       "      <td>No, Joe.  pic.twitter.com/IyM5Fk83Y1</td>\n",
       "      <td>False</td>\n",
       "      <td>False</td>\n",
       "      <td>False</td>\n",
       "      <td>False</td>\n",
       "      <td>False</td>\n",
       "      <td>False</td>\n",
       "      <td>False</td>\n",
       "    </tr>\n",
       "    <tr>\n",
       "      <th>815859</th>\n",
       "      <td>Democrats hate Tulsi. Tulsi has the support of...</td>\n",
       "      <td>False</td>\n",
       "      <td>True</td>\n",
       "      <td>False</td>\n",
       "      <td>False</td>\n",
       "      <td>False</td>\n",
       "      <td>False</td>\n",
       "      <td>False</td>\n",
       "    </tr>\n",
       "    <tr>\n",
       "      <th>485896</th>\n",
       "      <td>I’m more shocked Mr Weeks is making sense!!?!!...</td>\n",
       "      <td>False</td>\n",
       "      <td>True</td>\n",
       "      <td>False</td>\n",
       "      <td>False</td>\n",
       "      <td>False</td>\n",
       "      <td>False</td>\n",
       "      <td>False</td>\n",
       "    </tr>\n",
       "    <tr>\n",
       "      <th>756296</th>\n",
       "      <td>Joe Biden said that Donald Trump’s tweets are ...</td>\n",
       "      <td>False</td>\n",
       "      <td>False</td>\n",
       "      <td>True</td>\n",
       "      <td>False</td>\n",
       "      <td>False</td>\n",
       "      <td>False</td>\n",
       "      <td>False</td>\n",
       "    </tr>\n",
       "  </tbody>\n",
       "</table>\n",
       "</div>"
      ],
      "text/plain": [
       "                                                    tweet  SANDERS  HARRIS  \\\n",
       "124139  Yes, Bernie - I agree with you.  Now, exit sta...     True   False   \n",
       "358478  ? We need to end corruption in politics \\n\\n? ...    False    True   \n",
       "726695  “Fair share” still won’t be enough to pay for ...    False   False   \n",
       "110511  Authenic? Yeah, Joe \"May I speak to your lobby...    False   False   \n",
       "976345  Yes!! \\n\\nI’m a Bernie supporter. I hope the P...     True   False   \n",
       "84806   The precedent has been set...do release your t...     True   False   \n",
       "443134               No, Joe.  pic.twitter.com/IyM5Fk83Y1    False   False   \n",
       "815859  Democrats hate Tulsi. Tulsi has the support of...    False    True   \n",
       "485896  I’m more shocked Mr Weeks is making sense!!?!!...    False    True   \n",
       "756296  Joe Biden said that Donald Trump’s tweets are ...    False   False   \n",
       "\n",
       "        BIDEN  BUTTIGIEG  BOOKER  OROURKE  WARREN  \n",
       "124139  False      False   False    False   False  \n",
       "358478  False      False   False    False   False  \n",
       "726695  False      False   False    False   False  \n",
       "110511   True      False   False    False   False  \n",
       "976345  False      False   False    False   False  \n",
       "84806   False      False   False    False   False  \n",
       "443134  False      False   False    False   False  \n",
       "815859  False      False   False    False   False  \n",
       "485896  False      False   False    False   False  \n",
       "756296   True      False   False    False   False  "
      ]
     },
     "execution_count": 8,
     "metadata": {},
     "output_type": "execute_result"
    }
   ],
   "source": [
    "corpus.sample(10)[['tweet', 'SANDERS', 'HARRIS', 'BIDEN', 'BUTTIGIEG', 'BOOKER', 'OROURKE', 'WARREN']]"
   ]
  },
  {
   "cell_type": "code",
   "execution_count": 9,
   "metadata": {},
   "outputs": [
    {
     "name": "stderr",
     "output_type": "stream",
     "text": [
      "/Users/benjaminlevy/Desktop/Benjamin/School/19_20/Classes/ac209a/project/twitter-polling/twitpol/twitpol/language.py:51: TqdmDeprecationWarning: This function will be removed in tqdm==5.0.0\n",
      "Please use `tqdm.notebook.tqdm` instead of `tqdm.tqdm_notebook`\n",
      "  return [nlp(doc) for doc in pbar(docs)]\n"
     ]
    },
    {
     "data": {
      "application/vnd.jupyter.widget-view+json": {
       "model_id": "0cb4649b0f4a40b1809a112d07a3fb39",
       "version_major": 2,
       "version_minor": 0
      },
      "text/plain": [
       "HBox(children=(FloatProgress(value=0.0, max=10000.0), HTML(value='')))"
      ]
     },
     "metadata": {},
     "output_type": "display_data"
    },
    {
     "name": "stdout",
     "output_type": "stream",
     "text": [
      "\n"
     ]
    }
   ],
   "source": [
    "sanders = corpus[corpus['SANDERS']].sample(10000)\n",
    "docs = language.make_docs(sanders['tweet'], nlp, notebook=True)"
   ]
  },
  {
   "cell_type": "code",
   "execution_count": 10,
   "metadata": {},
   "outputs": [
    {
     "data": {
      "text/plain": [
       "['stupid',\n",
       " 'reason',\n",
       " 'something',\n",
       " 'call',\n",
       " 'working',\n",
       " 'families',\n",
       " 'party',\n",
       " 'not',\n",
       " 'endorse',\n",
       " 'candidate',\n",
       " 'work',\n",
       " 'work',\n",
       " 'family',\n",
       " 'stupid',\n",
       " 'argument',\n",
       " 'fool',\n",
       " 'tell',\n",
       " 'like',\n",
       " 'bernie',\n",
       " 'not',\n",
       " 'win',\n",
       " 'bernieyellsforus']"
      ]
     },
     "execution_count": 10,
     "metadata": {},
     "output_type": "execute_result"
    }
   ],
   "source": [
    "random.choice(docs)"
   ]
  },
  {
   "cell_type": "code",
   "execution_count": 11,
   "metadata": {},
   "outputs": [],
   "source": [
    "bow, vocab = topic_modelling.make_bow(docs)"
   ]
  },
  {
   "cell_type": "code",
   "execution_count": 12,
   "metadata": {},
   "outputs": [],
   "source": [
    "model = topic_modelling.run_lda(bow, vocab, num_topics=10)"
   ]
  },
  {
   "cell_type": "code",
   "execution_count": 13,
   "metadata": {},
   "outputs": [
    {
     "data": {
      "text/plain": [
       "[(0,\n",
       "  '0.046*\"bernie\" + 0.046*\"  \" + 0.041*\"sanders\" + 0.027*\"   \" + 0.023*\"$\" + 0.020*\"biden\" + 0.018*\"\\xa0  \" + 0.015*\"poll\" + 0.014*\"via\" + 0.014*\"joe\"'),\n",
       " (1,\n",
       "  '0.015*\"omar\" + 0.010*\"happy\" + 0.010*\"ilhan\" + 0.008*\"birthday\" + 0.008*\".@berniesanders\" + 0.006*\"@ninaturner\" + 0.006*\"los\" + 0.005*\"court\" + 0.005*\"iran\" + 0.005*\"shirt\"'),\n",
       " (2,\n",
       "  '0.039*\"warren\" + 0.032*\"bernie\" + 0.031*\"kamala\" + 0.027*\"pete\" + 0.025*\"biden\" + 0.024*\"sanders\" + 0.024*\"harris\" + 0.024*\"elizabeth\" + 0.016*\"joe\" + 0.016*\"beto\"'),\n",
       " (3,\n",
       "  '0.052*\"  \" + 0.044*\"   \" + 0.038*\"@berniesander\" + 0.016*\"bernie\" + 0.012*\"joe\" + 0.011*\"@ewarren\" + 0.011*\"@berniesanders\" + 0.011*\"biden\" + 0.009*\"@joebiden\" + 0.009*\"@kamalaharris\"'),\n",
       " (4,\n",
       "  '0.070*\"bernie\" + 0.049*\"not\" + 0.013*\"vote\" + 0.013*\"like\" + 0.013*\"get\" + 0.012*\"would\" + 0.011*\"people\" + 0.010*\"trump\" + 0.010*\"  \" + 0.010*\"go\"'),\n",
       " (5,\n",
       "  '0.014*\"school\" + 0.011*\"release\" + 0.011*\"|\" + 0.010*\"return\" + 0.009*\"large\" + 0.009*\"cortez\" + 0.008*\"education\" + 0.007*\"create\" + 0.007*\"profit\" + 0.007*\"ocasio\"'),\n",
       " (6,\n",
       "  '0.017*\"bernie\" + 0.013*\"de\" + 0.011*\"sanders\" + 0.006*\"la\" + 0.006*\"bernie2020\" + 0.005*\"warren\" + 0.005*\"opinion\" + 0.005*\"y\" + 0.005*\"en\" + 0.005*\"elizabeth\"'),\n",
       " (7,\n",
       "  '0.012*\"debt\" + 0.011*\"student\" + 0.011*\"bernie\" + 0.010*\"union\" + 0.009*\"communist\" + 0.008*\"russia\" + 0.008*\"mac\" + 0.008*\"illegal\" + 0.008*\"immigrant\" + 0.007*\"venezuela\"'),\n",
       " (8,\n",
       "  '0.088*\"bernie\" + 0.082*\"  \" + 0.067*\"   \" + 0.030*\"sanders\" + 0.009*\"bernie2020\" + 0.008*\"\\'s\" + 0.007*\"campaign\" + 0.006*\"say\" + 0.006*\"@berniesander\" + 0.006*\"not\"'),\n",
       " (9,\n",
       "  '0.019*\"bernie\" + 0.011*\"blue\" + 0.010*\"credit\" + 0.009*\"hey\" + 0.008*\"’s\" + 0.007*\"weekend\" + 0.006*\"bro\" + 0.006*\"mind\" + 0.006*\"truly\" + 0.005*\"totally\"')]"
      ]
     },
     "execution_count": 13,
     "metadata": {},
     "output_type": "execute_result"
    }
   ],
   "source": [
    "model.print_topics()"
   ]
  },
  {
   "cell_type": "markdown",
   "metadata": {},
   "source": [
    "Now for Harris"
   ]
  },
  {
   "cell_type": "code",
   "execution_count": 21,
   "metadata": {},
   "outputs": [
    {
     "name": "stderr",
     "output_type": "stream",
     "text": [
      "/Users/benjaminlevy/Desktop/Benjamin/School/19_20/Classes/ac209a/project/twitter-polling/twitpol/twitpol/language.py:51: TqdmDeprecationWarning: This function will be removed in tqdm==5.0.0\n",
      "Please use `tqdm.notebook.tqdm` instead of `tqdm.tqdm_notebook`\n",
      "  return [nlp(doc) for doc in pbar(docs)]\n"
     ]
    },
    {
     "data": {
      "application/vnd.jupyter.widget-view+json": {
       "model_id": "9c33ecbd67074ce7b13a43219a21cd49",
       "version_major": 2,
       "version_minor": 0
      },
      "text/plain": [
       "HBox(children=(FloatProgress(value=0.0, max=10000.0), HTML(value='')))"
      ]
     },
     "metadata": {},
     "output_type": "display_data"
    },
    {
     "name": "stdout",
     "output_type": "stream",
     "text": [
      "\n",
      "['put', 'self', 'risk', 'kamala', 'need', 'burn', 'one', 'relax']\n",
      "[(0,\n",
      "  '0.062*\"kamala\" + 0.040*\"not\" + 0.033*\"  \" + 0.023*\"harris\" + 0.015*\"   \" + '\n",
      "  '0.010*\"trump\" + 0.009*\"get\" + 0.008*\"like\" + 0.008*\"go\" + 0.008*\"say\"'),\n",
      " (1,\n",
      "  '0.048*\"warren\" + 0.045*\"biden\" + 0.040*\"kamala\" + 0.034*\"bernie\" + '\n",
      "  '0.033*\"joe\" + 0.033*\"elizabeth\" + 0.033*\"pete\" + 0.029*\"harris\" + '\n",
      "  '0.022*\"beto\" + 0.021*\"sanders\"'),\n",
      " (2,\n",
      "  '0.089*\"kamala\" + 0.081*\"  \" + 0.064*\"harris\" + 0.061*\"   \" + 0.011*\"trump\" '\n",
      "  '+ 0.009*\"\\'s\" + 0.009*\"’s\" + 0.007*\"via\" + 0.006*\"say\" + 0.005*\"twitter\"'),\n",
      " (3,\n",
      "  '0.011*\"camp\" + 0.010*\"awesome\" + 0.009*\"c\" + 0.007*\"brain\" + 0.006*\"b\" + '\n",
      "  '0.006*\"14\" + 0.006*\"popular\" + 0.006*\"ability\" + 0.005*\"update\" + '\n",
      "  '0.005*\"multiple\"'),\n",
      " (4,\n",
      "  '0.060*\"kamala\" + 0.035*\"not\" + 0.024*\"would\" + 0.016*\"good\" + 0.014*\"think\" '\n",
      "  '+ 0.012*\"woman\" + 0.011*\"president\" + 0.009*\"one\" + 0.009*\"harris\" + '\n",
      "  '0.009*\"great\"'),\n",
      " (5,\n",
      "  '0.020*\"de\" + 0.011*\"que\" + 0.009*\"character\" + 0.008*\"mother\" + 0.007*\"el\" '\n",
      "  '+ 0.007*\"khan\" + 0.006*\"@aoc\" + 0.006*\"marvel\" + 0.006*\"@berniesanders\" + '\n",
      "  '0.005*\"jamaican\"'),\n",
      " (6,\n",
      "  '0.039*\"@kamalaharris\" + 0.015*\"@ewarren\" + 0.012*\"@joebiden\" + '\n",
      "  '0.012*\"kamala\" + 0.011*\"no\" + 0.011*\"@petebuttigieg\" + '\n",
      "  '0.010*\"@berniesander\" + 0.009*\"@corybooker\" + 0.008*\"prison\" + 0.007*\"   \"'),\n",
      " (7,\n",
      "  '0.037*\"  \" + 0.033*\"kamala\" + 0.028*\"\\xa0  \" + 0.025*\"harris\" + 0.025*\"$\" + '\n",
      "  '0.023*\"via\" + 0.015*\"million\" + 0.014*\"   \" + 0.012*\"@youtube\" + '\n",
      "  '0.012*\"slave\"'),\n",
      " (8,\n",
      "  '0.027*\"brown\" + 0.023*\"willie\" + 0.015*\"san\" + 0.011*\"francisco\" + '\n",
      "  '0.009*\"donate\" + 0.009*\"qualified\" + 0.009*\"join\" + 0.007*\"\\'s\" + '\n",
      "  '0.007*\"today\" + 0.007*\"water\"'),\n",
      " (9,\n",
      "  '0.077*\"kamala\" + 0.032*\"not\" + 0.020*\"like\" + 0.016*\"go\" + 0.015*\"get\" + '\n",
      "  '0.012*\"harris\" + 0.010*\"no\" + 0.008*\"see\" + 0.008*\"say\" + 0.008*\"know\"')]\n"
     ]
    }
   ],
   "source": [
    "harris = corpus[corpus['HARRIS']].sample(10000)\n",
    "docs_harris = language.make_docs(harris['tweet'], nlp, notebook=True)\n",
    "print(random.choice(docs_harris))\n",
    "bow_harris, vocab_harris = topic_modelling.make_bow(docs_harris)\n",
    "model_harris = topic_modelling.run_lda(bow_harris, vocab_harris, num_topics=10)\n",
    "pprint(model_harris.print_topics())"
   ]
  },
  {
   "cell_type": "code",
   "execution_count": 20,
   "metadata": {},
   "outputs": [
    {
     "data": {
      "text/plain": [
       "125702"
      ]
     },
     "execution_count": 20,
     "metadata": {},
     "output_type": "execute_result"
    }
   ],
   "source": [
    "np.sum(np.logical_and(corpus['SANDERS'], corpus['BIDEN']))"
   ]
  },
  {
   "cell_type": "code",
   "execution_count": 25,
   "metadata": {},
   "outputs": [
    {
     "data": {
      "text/plain": [
       "<matplotlib.axes._subplots.AxesSubplot at 0x1a93792590>"
      ]
     },
     "execution_count": 25,
     "metadata": {},
     "output_type": "execute_result"
    },
    {
     "data": {
      "image/png": "[encoded data removed]",
      "text/plain": [
       "<Figure size 432x288 with 1 Axes>"
      ]
     },
     "metadata": {
      "needs_background": "light"
     },
     "output_type": "display_data"
    }
   ],
   "source": [
    "corpus['Sentiment'].hist()"
   ]
  },
  {
   "cell_type": "code",
   "execution_count": 26,
   "metadata": {},
   "outputs": [],
   "source": [
    "# Looking only at very positive and very negative tweets"
   ]
  },
  {
   "cell_type": "code",
   "execution_count": 54,
   "metadata": {},
   "outputs": [],
   "source": [
    "def topic_model(corpus):\n",
    "    docs = language.make_docs(corpus['tweet'], nlp, notebook=True, extra_stop=extra_stop)\n",
    "    print(random.choice(docs))\n",
    "    bow, vocab = topic_modelling.make_bow(docs)\n",
    "    model = topic_modelling.run_lda(bow, vocab, num_topics=10)\n",
    "    pprint(model.print_topics())"
   ]
  },
  {
   "cell_type": "code",
   "execution_count": 57,
   "metadata": {},
   "outputs": [
    {
     "name": "stdout",
     "output_type": "stream",
     "text": [
      "Topic model WARREN - POS\n"
     ]
    },
    {
     "name": "stderr",
     "output_type": "stream",
     "text": [
      "/Users/benjaminlevy/Desktop/Benjamin/School/19_20/Classes/ac209a/project/twitter-polling/twitpol/twitpol/language.py:55: TqdmDeprecationWarning: This function will be removed in tqdm==5.0.0\n",
      "Please use `tqdm.notebook.tqdm` instead of `tqdm.tqdm_notebook`\n"
     ]
    },
    {
     "data": {
      "application/vnd.jupyter.widget-view+json": {
       "model_id": "21f675d8a1c84b6d9e278318a90caee6",
       "version_major": 2,
       "version_minor": 0
      },
      "text/plain": [
       "HBox(children=(FloatProgress(value=0.0, max=10000.0), HTML(value='')))"
      ]
     },
     "metadata": {},
     "output_type": "display_data"
    },
    {
     "name": "stdout",
     "output_type": "stream",
     "text": [
      "\n",
      "['join', 'support', 'elizabeth', 'via', '@actblue', 'https://secure.actblue.com/donate/ew-corporate-tax', '   ']\n",
      "[(0,\n",
      "  '0.038*\"bernie\" + 0.033*\"sanders\" + 0.032*\"elizabeth\" + 0.031*\"biden\" + '\n",
      "  '0.031*\"kamala\" + 0.029*\"harris\" + 0.027*\"joe\" + 0.025*\"booker\" + '\n",
      "  '0.022*\"pete\" + 0.020*\"beto\"'),\n",
      " (1,\n",
      "  '0.072*\"pete\" + 0.071*\"kamala\" + 0.068*\"harris\" + 0.052*\"elizabeth\" + '\n",
      "  '0.048*\"mayor\" + 0.023*\"love\" + 0.016*\"buttigieg\" + 0.014*\"like\" + '\n",
      "  '0.011*\"also\" + 0.009*\"would\"'),\n",
      " (2,\n",
      "  '0.039*\"elizabeth\" + 0.025*\"bernie\" + 0.021*\"  \" + 0.020*\"kamala\" + '\n",
      "  '0.019*\"biden\" + 0.018*\"2\" + 0.017*\"3\" + 0.017*\"sanders\" + 0.016*\"harris\" + '\n",
      "  '0.016*\"democratic\"'),\n",
      " (3,\n",
      "  '0.008*\"explain\" + 0.008*\"robert\" + 0.008*\"ma\" + 0.007*\"e\" + '\n",
      "  '0.007*\"especially\" + 0.007*\"school\" + 0.007*\"around\" + 0.006*\"yesterday\" + '\n",
      "  '0.006*\"@msnbc\" + 0.005*\"republican\"'),\n",
      " (4,\n",
      "  '0.143*\"elizabeth\" + 0.079*\"   \" + 0.068*\"via\" + 0.068*\"support\" + '\n",
      "  '0.056*\"join\" + 0.051*\"@actblue\" + 0.048*\"  \" + 0.012*\"\\xa0  \" + '\n",
      "  '0.005*\"https://secure.actblue.com/donate/ew-2019q3fr\" + 0.005*\"@youtube\"'),\n",
      " (5,\n",
      "  '0.097*\"  \" + 0.082*\"elizabeth\" + 0.038*\"\\xa0  \" + 0.026*\"plan\" + '\n",
      "  '0.020*\"\\'s\" + 0.016*\"’s\" + 0.014*\"new\" + 0.012*\"big\" + 0.010*\"via\" + '\n",
      "  '0.008*\"break\"'),\n",
      " (6,\n",
      "  '0.025*\"@senwarren\" + 0.013*\"@ewarren\" + 0.011*\"@kamalaharris\" + '\n",
      "  '0.010*\"twitter\" + 0.010*\"@berniesander\" + 0.010*\"@petebuttigieg\" + '\n",
      "  '0.009*\"elizabeth\" + 0.008*\"add\" + 0.008*\"line\" + 0.008*\"warren2020\"'),\n",
      " (7,\n",
      "  '0.080*\"elizabeth\" + 0.030*\"  \" + 0.028*\"not\" + 0.019*\"like\" + 0.018*\"good\" '\n",
      "  '+ 0.016*\"would\" + 0.013*\"bernie\" + 0.011*\"get\" + 0.011*\"go\" + '\n",
      "  '0.011*\"president\"'),\n",
      " (8,\n",
      "  '0.046*\"elizabeth\" + 0.039*\"  \" + 0.014*\"campaign\" + 0.013*\"\\xa0  \" + '\n",
      "  '0.011*\"’s\" + 0.010*\"$\" + 0.010*\"tweet\" + 0.009*\"donate\" + 0.007*\"life\" + '\n",
      "  '0.006*\"big\"'),\n",
      " (9,\n",
      "  '0.043*\"elizabeth\" + 0.014*\"beer\" + 0.011*\"pick\" + 0.011*\"must\" + '\n",
      "  '0.010*\"voter\" + 0.009*\"night\" + 0.008*\"funny\" + 0.007*\"hey\" + 0.007*\"run\" + '\n",
      "  '0.007*\"kate\"')]\n",
      "Topic model WARREN - NEG\n"
     ]
    },
    {
     "name": "stderr",
     "output_type": "stream",
     "text": [
      "/Users/benjaminlevy/Desktop/Benjamin/School/19_20/Classes/ac209a/project/twitter-polling/twitpol/twitpol/language.py:55: TqdmDeprecationWarning: This function will be removed in tqdm==5.0.0\n",
      "Please use `tqdm.notebook.tqdm` instead of `tqdm.tqdm_notebook`\n"
     ]
    },
    {
     "data": {
      "application/vnd.jupyter.widget-view+json": {
       "model_id": "24b59615c77944c99a7b985f3b1c447c",
       "version_major": 2,
       "version_minor": 0
      },
      "text/plain": [
       "HBox(children=(FloatProgress(value=0.0, max=10000.0), HTML(value='')))"
      ]
     },
     "metadata": {},
     "output_type": "display_data"
    },
    {
     "name": "stdout",
     "output_type": "stream",
     "text": [
      "\n",
      "['claim', 'not', 'socialist', 'probably', 'communist', 'like', 'puppet', 'master', 'george', 'soros', 'two', 'presidential', 'candidates', 'elizabeth', 'kamala', 'harris', 'muslim', 'brotherhood', 'communist', 'party', 'tie', 'run', 'president', '  ', 'https://www.thecommonsenseshow.com/two-presidential-candidates-with-muslim-brotherhood-and-communist-party-ties-are-running-for-president/', '   ']\n",
      "[(0,\n",
      "  '0.018*\"rally\" + 0.015*\"trump\" + 0.012*\"percent\" + 0.010*\"test\" + '\n",
      "  '0.007*\"dna\" + 0.007*\"hill\" + 0.006*\"corruption\" + 0.006*\"hopeful\" + '\n",
      "  '0.006*\"strike\" + 0.006*\"potential\"'),\n",
      " (1,\n",
      "  '0.051*\"elizabeth\" + 0.039*\"  \" + 0.037*\"   \" + 0.033*\"american\" + '\n",
      "  '0.026*\"native\" + 0.011*\"lie\" + 0.010*\"claim\" + 0.008*\"trump\" + 0.007*\"\\'s\" '\n",
      "  '+ 0.007*\"no\"'),\n",
      " (2,\n",
      "  '0.052*\"not\" + 0.030*\"elizabeth\" + 0.018*\"bernie\" + 0.012*\"get\" + '\n",
      "  '0.012*\"like\" + 0.011*\"go\" + 0.010*\"would\" + 0.010*\"no\" + 0.009*\"say\" + '\n",
      "  '0.009*\"people\"'),\n",
      " (3,\n",
      "  '0.089*\"  \" + 0.088*\"elizabeth\" + 0.083*\"   \" + 0.023*\"plan\" + 0.015*\"via\" + '\n",
      "  '0.013*\"tax\" + 0.012*\"\\'s\" + 0.011*\"medicare\" + 0.011*\"$\" + 0.011*\"’s\"'),\n",
      " (4,\n",
      "  '0.059*\"elizabeth\" + 0.057*\"  \" + 0.056*\"   \" + 0.009*\"via\" + 0.009*\"’s\" + '\n",
      "  '0.007*\"woman\" + 0.006*\"say\" + 0.006*\"trump\" + 0.006*\"mike\" + 0.006*\"no\"'),\n",
      " (5,\n",
      "  '0.057*\"  \" + 0.056*\"elizabeth\" + 0.052*\"   \" + 0.019*\"biden\" + '\n",
      "  '0.018*\"bernie\" + 0.016*\"trump\" + 0.014*\"joe\" + 0.013*\"sanders\" + '\n",
      "  '0.010*\"poll\" + 0.010*\"\\'s\"'),\n",
      " (6,\n",
      "  '0.042*\"kamala\" + 0.029*\"harris\" + 0.029*\"biden\" + 0.027*\"pete\" + '\n",
      "  '0.025*\"bernie\" + 0.017*\"beto\" + 0.016*\"buttigieg\" + 0.015*\"sanders\" + '\n",
      "  '0.013*\"not\" + 0.012*\"joe\"'),\n",
      " (7,\n",
      "  '0.021*\"@senwarren\" + 0.020*\"dayton\" + 0.016*\"shooter\" + '\n",
      "  '0.012*\"@berniesander\" + 0.012*\"   \" + 0.012*\"@kamalaharris\" + 0.010*\"ohio\" '\n",
      "  '+ 0.009*\"college\" + 0.009*\"news\" + 0.009*\"fox\"'),\n",
      " (8,\n",
      "  '0.008*\"   \" + 0.008*\"bernie2020\" + 0.008*\"mother\" + 0.008*\"unfortunately\" + '\n",
      "  '0.007*\"@realdonaldtrump\" + 0.007*\"daughter\" + 0.007*\"voice\" + '\n",
      "  '0.006*\"centrist\" + 0.006*\"capitalism\" + 0.005*\"lawyer\"'),\n",
      " (9,\n",
      "  '0.057*\"  \" + 0.054*\"elizabeth\" + 0.040*\"   \" + 0.021*\"via\" + 0.021*\"kamala\" '\n",
      "  '+ 0.019*\"harris\" + 0.018*\"\\xa0  \" + 0.012*\"trump\" + 0.010*\"@youtube\" + '\n",
      "  '0.009*\"twitter\"')]\n"
     ]
    }
   ],
   "source": [
    "warren = corpus[corpus['WARREN']]\n",
    "warren_pos = warren[warren['Sentiment'] > 0.8].sample(10000)\n",
    "warren_neg = warren[warren['Sentiment'] < 0.2].sample(10000)\n",
    "for groupname, corp in [('POS', warren_pos), ('NEG', warren_neg)]:\n",
    "    print(f'Topic model WARREN - {groupname}')\n",
    "    topic_model(corp)"
   ]
  },
  {
   "cell_type": "code",
   "execution_count": 30,
   "metadata": {},
   "outputs": [
    {
     "data": {
      "text/html": [
       "<div>\n",
       "<style scoped>\n",
       "    .dataframe tbody tr th:only-of-type {\n",
       "        vertical-align: middle;\n",
       "    }\n",
       "\n",
       "    .dataframe tbody tr th {\n",
       "        vertical-align: top;\n",
       "    }\n",
       "\n",
       "    .dataframe thead th {\n",
       "        text-align: right;\n",
       "    }\n",
       "</style>\n",
       "<table border=\"1\" class=\"dataframe\">\n",
       "  <thead>\n",
       "    <tr style=\"text-align: right;\">\n",
       "      <th></th>\n",
       "      <th>tweet</th>\n",
       "      <th>nlikes</th>\n",
       "      <th>DateTime</th>\n",
       "      <th>Sentiment</th>\n",
       "      <th>SANDERS</th>\n",
       "      <th>HARRIS</th>\n",
       "      <th>BIDEN</th>\n",
       "      <th>BUTTIGIEG</th>\n",
       "      <th>BOOKER</th>\n",
       "      <th>OROURKE</th>\n",
       "      <th>WARREN</th>\n",
       "    </tr>\n",
       "  </thead>\n",
       "  <tbody>\n",
       "    <tr>\n",
       "      <th>0</th>\n",
       "      <td>Yes, I agree the workday should be shortened, ...</td>\n",
       "      <td>1.0</td>\n",
       "      <td>2019-11-07</td>\n",
       "      <td>0.503561</td>\n",
       "      <td>False</td>\n",
       "      <td>True</td>\n",
       "      <td>False</td>\n",
       "      <td>False</td>\n",
       "      <td>False</td>\n",
       "      <td>False</td>\n",
       "      <td>False</td>\n",
       "    </tr>\n",
       "    <tr>\n",
       "      <th>1</th>\n",
       "      <td>People think that businesses care more about p...</td>\n",
       "      <td>4.0</td>\n",
       "      <td>2019-11-07</td>\n",
       "      <td>0.740527</td>\n",
       "      <td>False</td>\n",
       "      <td>False</td>\n",
       "      <td>False</td>\n",
       "      <td>False</td>\n",
       "      <td>False</td>\n",
       "      <td>False</td>\n",
       "      <td>False</td>\n",
       "    </tr>\n",
       "    <tr>\n",
       "      <th>2</th>\n",
       "      <td>@amyklobuchar is rising, surging past Kamala H...</td>\n",
       "      <td>0.0</td>\n",
       "      <td>2019-11-07</td>\n",
       "      <td>0.909588</td>\n",
       "      <td>False</td>\n",
       "      <td>True</td>\n",
       "      <td>False</td>\n",
       "      <td>False</td>\n",
       "      <td>False</td>\n",
       "      <td>False</td>\n",
       "      <td>False</td>\n",
       "    </tr>\n",
       "    <tr>\n",
       "      <th>3</th>\n",
       "      <td>I truly hope so. All this outrage and fake hea...</td>\n",
       "      <td>1.0</td>\n",
       "      <td>2019-11-07</td>\n",
       "      <td>0.222077</td>\n",
       "      <td>False</td>\n",
       "      <td>True</td>\n",
       "      <td>False</td>\n",
       "      <td>False</td>\n",
       "      <td>False</td>\n",
       "      <td>False</td>\n",
       "      <td>False</td>\n",
       "    </tr>\n",
       "    <tr>\n",
       "      <th>4</th>\n",
       "      <td>She did, and I like Kamala. But @JulianCastro ...</td>\n",
       "      <td>244.0</td>\n",
       "      <td>2019-11-07</td>\n",
       "      <td>0.544374</td>\n",
       "      <td>False</td>\n",
       "      <td>True</td>\n",
       "      <td>False</td>\n",
       "      <td>False</td>\n",
       "      <td>False</td>\n",
       "      <td>False</td>\n",
       "      <td>False</td>\n",
       "    </tr>\n",
       "  </tbody>\n",
       "</table>\n",
       "</div>"
      ],
      "text/plain": [
       "                                               tweet  nlikes    DateTime  \\\n",
       "0  Yes, I agree the workday should be shortened, ...     1.0  2019-11-07   \n",
       "1  People think that businesses care more about p...     4.0  2019-11-07   \n",
       "2  @amyklobuchar is rising, surging past Kamala H...     0.0  2019-11-07   \n",
       "3  I truly hope so. All this outrage and fake hea...     1.0  2019-11-07   \n",
       "4  She did, and I like Kamala. But @JulianCastro ...   244.0  2019-11-07   \n",
       "\n",
       "   Sentiment  SANDERS  HARRIS  BIDEN  BUTTIGIEG  BOOKER  OROURKE  WARREN  \n",
       "0   0.503561    False    True  False      False   False    False   False  \n",
       "1   0.740527    False   False  False      False   False    False   False  \n",
       "2   0.909588    False    True  False      False   False    False   False  \n",
       "3   0.222077    False    True  False      False   False    False   False  \n",
       "4   0.544374    False    True  False      False   False    False   False  "
      ]
     },
     "execution_count": 30,
     "metadata": {},
     "output_type": "execute_result"
    }
   ],
   "source": [
    "corpus.head()"
   ]
  },
  {
   "cell_type": "code",
   "execution_count": 45,
   "metadata": {},
   "outputs": [],
   "source": [
    "queries = tmac.load_and_split_queries()\n",
    "extra_stop = [q.lower() for q in queries['WARREN']]\n"
   ]
  },
  {
   "cell_type": "code",
   "execution_count": 46,
   "metadata": {},
   "outputs": [
    {
     "data": {
      "text/plain": [
       "['elizabeth warren',\n",
       " 'warren',\n",
       " 'senwarren',\n",
       " 'senator warren',\n",
       " 'elizabethwarren']"
      ]
     },
     "execution_count": 46,
     "metadata": {},
     "output_type": "execute_result"
    }
   ],
   "source": [
    "extra_stop"
   ]
  },
  {
   "cell_type": "code",
   "execution_count": 47,
   "metadata": {
    "scrolled": true
   },
   "outputs": [
    {
     "name": "stderr",
     "output_type": "stream",
     "text": [
      "\n",
      "0it [00:00, ?it/s]\u001b[A\n"
     ]
    },
    {
     "ename": "ValueError",
     "evalue": "cannot compute LDA over an empty collection (no terms)",
     "output_type": "error",
     "traceback": [
      "\u001b[0;31m---------------------------------------------------------------------------\u001b[0m",
      "\u001b[0;31mValueError\u001b[0m                                Traceback (most recent call last)",
      "\u001b[0;32m<ipython-input-47-cd3febccec0f>\u001b[0m in \u001b[0;36m<module>\u001b[0;34m\u001b[0m\n\u001b[0;32m----> 1\u001b[0;31m \u001b[0mtmac\u001b[0m\u001b[0;34m.\u001b[0m\u001b[0mtopic_model_corpus\u001b[0m\u001b[0;34m(\u001b[0m\u001b[0mwarren_pos\u001b[0m\u001b[0;34m,\u001b[0m \u001b[0mnlp\u001b[0m\u001b[0;34m,\u001b[0m \u001b[0mextra_stop\u001b[0m\u001b[0;34m)\u001b[0m\u001b[0;34m\u001b[0m\u001b[0;34m\u001b[0m\u001b[0m\n\u001b[0m",
      "\u001b[0;32m~/Desktop/Benjamin/School/19_20/Classes/ac209a/project/twitter-polling/src/supp_analysis/topic_modelling_and_collocation.py\u001b[0m in \u001b[0;36mtopic_model_corpus\u001b[0;34m(corpus, nlp, extra_stop)\u001b[0m\n\u001b[1;32m     90\u001b[0m     \u001b[0mdocs\u001b[0m \u001b[0;34m=\u001b[0m \u001b[0mlanguage\u001b[0m\u001b[0;34m.\u001b[0m\u001b[0mmake_docs\u001b[0m\u001b[0;34m(\u001b[0m\u001b[0mcorpus\u001b[0m\u001b[0;34m[\u001b[0m\u001b[0;34m'tweet'\u001b[0m\u001b[0;34m]\u001b[0m\u001b[0;34m.\u001b[0m\u001b[0mtolist\u001b[0m\u001b[0;34m(\u001b[0m\u001b[0;34m)\u001b[0m\u001b[0;34m,\u001b[0m \u001b[0mnlp\u001b[0m\u001b[0;34m,\u001b[0m \u001b[0mextra_stop\u001b[0m\u001b[0;34m=\u001b[0m\u001b[0mextra_stop\u001b[0m\u001b[0;34m)\u001b[0m\u001b[0;34m\u001b[0m\u001b[0;34m\u001b[0m\u001b[0m\n\u001b[1;32m     91\u001b[0m     \u001b[0mbow\u001b[0m\u001b[0;34m,\u001b[0m \u001b[0mvocab\u001b[0m \u001b[0;34m=\u001b[0m \u001b[0mtopic_modelling\u001b[0m\u001b[0;34m.\u001b[0m\u001b[0mmake_bow\u001b[0m\u001b[0;34m(\u001b[0m\u001b[0mdocs\u001b[0m\u001b[0;34m)\u001b[0m\u001b[0;34m\u001b[0m\u001b[0;34m\u001b[0m\u001b[0m\n\u001b[0;32m---> 92\u001b[0;31m     \u001b[0mlda_model\u001b[0m \u001b[0;34m=\u001b[0m \u001b[0mtopic_modelling\u001b[0m\u001b[0;34m.\u001b[0m\u001b[0mrun_lda\u001b[0m\u001b[0;34m(\u001b[0m\u001b[0mbow\u001b[0m\u001b[0;34m,\u001b[0m \u001b[0mvocab\u001b[0m\u001b[0;34m,\u001b[0m \u001b[0mnum_topics\u001b[0m\u001b[0;34m=\u001b[0m\u001b[0;36m10\u001b[0m\u001b[0;34m)\u001b[0m  \u001b[0;31m# Play with num_topics\u001b[0m\u001b[0;34m\u001b[0m\u001b[0;34m\u001b[0m\u001b[0m\n\u001b[0m\u001b[1;32m     93\u001b[0m     \u001b[0mmodel\u001b[0m \u001b[0;34m=\u001b[0m \u001b[0mlda_model\u001b[0m\u001b[0;34m\u001b[0m\u001b[0;34m\u001b[0m\u001b[0m\n\u001b[1;32m     94\u001b[0m     \u001b[0mlda_topics\u001b[0m \u001b[0;34m=\u001b[0m \u001b[0mlda_model\u001b[0m\u001b[0;34m.\u001b[0m\u001b[0mprint_topics\u001b[0m\u001b[0;34m(\u001b[0m\u001b[0;34m)\u001b[0m\u001b[0;34m\u001b[0m\u001b[0;34m\u001b[0m\u001b[0m\n",
      "\u001b[0;32m~/Desktop/Benjamin/School/19_20/Classes/ac209a/project/twitter-polling/twitpol/twitpol/topic_modelling.py\u001b[0m in \u001b[0;36mrun_lda\u001b[0;34m(corpus, vocab, num_topics)\u001b[0m\n\u001b[1;32m     18\u001b[0m             \u001b[0mupdate_every\u001b[0m\u001b[0;34m=\u001b[0m\u001b[0;36m1\u001b[0m\u001b[0;34m,\u001b[0m\u001b[0;34m\u001b[0m\u001b[0;34m\u001b[0m\u001b[0m\n\u001b[1;32m     19\u001b[0m             \u001b[0mpasses\u001b[0m\u001b[0;34m=\u001b[0m\u001b[0;36m10\u001b[0m\u001b[0;34m,\u001b[0m\u001b[0;34m\u001b[0m\u001b[0;34m\u001b[0m\u001b[0m\n\u001b[0;32m---> 20\u001b[0;31m             \u001b[0mper_word_topics\u001b[0m\u001b[0;34m=\u001b[0m\u001b[0;32mTrue\u001b[0m\u001b[0;34m\u001b[0m\u001b[0;34m\u001b[0m\u001b[0m\n\u001b[0m\u001b[1;32m     21\u001b[0m         )\n",
      "\u001b[0;32m~/anaconda/envs/twitpol-env/lib/python3.7/site-packages/gensim/models/ldamodel.py\u001b[0m in \u001b[0;36m__init__\u001b[0;34m(self, corpus, num_topics, id2word, distributed, chunksize, passes, update_every, alpha, eta, decay, offset, eval_every, iterations, gamma_threshold, minimum_probability, random_state, ns_conf, minimum_phi_value, per_word_topics, callbacks, dtype)\u001b[0m\n\u001b[1;32m    439\u001b[0m \u001b[0;34m\u001b[0m\u001b[0m\n\u001b[1;32m    440\u001b[0m         \u001b[0;32mif\u001b[0m \u001b[0mself\u001b[0m\u001b[0;34m.\u001b[0m\u001b[0mnum_terms\u001b[0m \u001b[0;34m==\u001b[0m \u001b[0;36m0\u001b[0m\u001b[0;34m:\u001b[0m\u001b[0;34m\u001b[0m\u001b[0;34m\u001b[0m\u001b[0m\n\u001b[0;32m--> 441\u001b[0;31m             \u001b[0;32mraise\u001b[0m \u001b[0mValueError\u001b[0m\u001b[0;34m(\u001b[0m\u001b[0;34m\"cannot compute LDA over an empty collection (no terms)\"\u001b[0m\u001b[0;34m)\u001b[0m\u001b[0;34m\u001b[0m\u001b[0;34m\u001b[0m\u001b[0m\n\u001b[0m\u001b[1;32m    442\u001b[0m \u001b[0;34m\u001b[0m\u001b[0m\n\u001b[1;32m    443\u001b[0m         \u001b[0mself\u001b[0m\u001b[0;34m.\u001b[0m\u001b[0mdistributed\u001b[0m \u001b[0;34m=\u001b[0m \u001b[0mbool\u001b[0m\u001b[0;34m(\u001b[0m\u001b[0mdistributed\u001b[0m\u001b[0;34m)\u001b[0m\u001b[0;34m\u001b[0m\u001b[0;34m\u001b[0m\u001b[0m\n",
      "\u001b[0;31mValueError\u001b[0m: cannot compute LDA over an empty collection (no terms)"
     ]
    }
   ],
   "source": [
    "tmac.topic_model_corpus(warren_pos, nlp, extra_stop)"
   ]
  },
  {
   "cell_type": "code",
   "execution_count": 59,
   "metadata": {},
   "outputs": [
    {
     "ename": "ParserError",
     "evalue": "Error tokenizing data. C error: Buffer overflow caught - possible malformed input file.\n",
     "output_type": "error",
     "traceback": [
      "\u001b[0;31m---------------------------------------------------------------------------\u001b[0m",
      "\u001b[0;31mParserError\u001b[0m                               Traceback (most recent call last)",
      "\u001b[0;32m<ipython-input-59-1879aabed9ec>\u001b[0m in \u001b[0;36m<module>\u001b[0;34m\u001b[0m\n\u001b[0;32m----> 1\u001b[0;31m \u001b[0mpd\u001b[0m\u001b[0;34m.\u001b[0m\u001b[0mread_csv\u001b[0m\u001b[0;34m(\u001b[0m\u001b[0mconfig\u001b[0m\u001b[0;34m.\u001b[0m\u001b[0mDATA\u001b[0m \u001b[0;34m/\u001b[0m \u001b[0;34m'processed'\u001b[0m \u001b[0;34m/\u001b[0m \u001b[0;34m'tweets_matched.csv'\u001b[0m\u001b[0;34m)\u001b[0m\u001b[0;34m.\u001b[0m\u001b[0mhead\u001b[0m\u001b[0;34m(\u001b[0m\u001b[0;34m)\u001b[0m\u001b[0;34m\u001b[0m\u001b[0;34m\u001b[0m\u001b[0m\n\u001b[0m",
      "\u001b[0;32m~/anaconda/envs/twitpol-env/lib/python3.7/site-packages/pandas/io/parsers.py\u001b[0m in \u001b[0;36mparser_f\u001b[0;34m(filepath_or_buffer, sep, delimiter, header, names, index_col, usecols, squeeze, prefix, mangle_dupe_cols, dtype, engine, converters, true_values, false_values, skipinitialspace, skiprows, skipfooter, nrows, na_values, keep_default_na, na_filter, verbose, skip_blank_lines, parse_dates, infer_datetime_format, keep_date_col, date_parser, dayfirst, cache_dates, iterator, chunksize, compression, thousands, decimal, lineterminator, quotechar, quoting, doublequote, escapechar, comment, encoding, dialect, error_bad_lines, warn_bad_lines, delim_whitespace, low_memory, memory_map, float_precision)\u001b[0m\n\u001b[1;32m    683\u001b[0m         )\n\u001b[1;32m    684\u001b[0m \u001b[0;34m\u001b[0m\u001b[0m\n\u001b[0;32m--> 685\u001b[0;31m         \u001b[0;32mreturn\u001b[0m \u001b[0m_read\u001b[0m\u001b[0;34m(\u001b[0m\u001b[0mfilepath_or_buffer\u001b[0m\u001b[0;34m,\u001b[0m \u001b[0mkwds\u001b[0m\u001b[0;34m)\u001b[0m\u001b[0;34m\u001b[0m\u001b[0;34m\u001b[0m\u001b[0m\n\u001b[0m\u001b[1;32m    686\u001b[0m \u001b[0;34m\u001b[0m\u001b[0m\n\u001b[1;32m    687\u001b[0m     \u001b[0mparser_f\u001b[0m\u001b[0;34m.\u001b[0m\u001b[0m__name__\u001b[0m \u001b[0;34m=\u001b[0m \u001b[0mname\u001b[0m\u001b[0;34m\u001b[0m\u001b[0;34m\u001b[0m\u001b[0m\n",
      "\u001b[0;32m~/anaconda/envs/twitpol-env/lib/python3.7/site-packages/pandas/io/parsers.py\u001b[0m in \u001b[0;36m_read\u001b[0;34m(filepath_or_buffer, kwds)\u001b[0m\n\u001b[1;32m    461\u001b[0m \u001b[0;34m\u001b[0m\u001b[0m\n\u001b[1;32m    462\u001b[0m     \u001b[0;32mtry\u001b[0m\u001b[0;34m:\u001b[0m\u001b[0;34m\u001b[0m\u001b[0;34m\u001b[0m\u001b[0m\n\u001b[0;32m--> 463\u001b[0;31m         \u001b[0mdata\u001b[0m \u001b[0;34m=\u001b[0m \u001b[0mparser\u001b[0m\u001b[0;34m.\u001b[0m\u001b[0mread\u001b[0m\u001b[0;34m(\u001b[0m\u001b[0mnrows\u001b[0m\u001b[0;34m)\u001b[0m\u001b[0;34m\u001b[0m\u001b[0;34m\u001b[0m\u001b[0m\n\u001b[0m\u001b[1;32m    464\u001b[0m     \u001b[0;32mfinally\u001b[0m\u001b[0;34m:\u001b[0m\u001b[0;34m\u001b[0m\u001b[0;34m\u001b[0m\u001b[0m\n\u001b[1;32m    465\u001b[0m         \u001b[0mparser\u001b[0m\u001b[0;34m.\u001b[0m\u001b[0mclose\u001b[0m\u001b[0;34m(\u001b[0m\u001b[0;34m)\u001b[0m\u001b[0;34m\u001b[0m\u001b[0;34m\u001b[0m\u001b[0m\n",
      "\u001b[0;32m~/anaconda/envs/twitpol-env/lib/python3.7/site-packages/pandas/io/parsers.py\u001b[0m in \u001b[0;36mread\u001b[0;34m(self, nrows)\u001b[0m\n\u001b[1;32m   1152\u001b[0m     \u001b[0;32mdef\u001b[0m \u001b[0mread\u001b[0m\u001b[0;34m(\u001b[0m\u001b[0mself\u001b[0m\u001b[0;34m,\u001b[0m \u001b[0mnrows\u001b[0m\u001b[0;34m=\u001b[0m\u001b[0;32mNone\u001b[0m\u001b[0;34m)\u001b[0m\u001b[0;34m:\u001b[0m\u001b[0;34m\u001b[0m\u001b[0;34m\u001b[0m\u001b[0m\n\u001b[1;32m   1153\u001b[0m         \u001b[0mnrows\u001b[0m \u001b[0;34m=\u001b[0m \u001b[0m_validate_integer\u001b[0m\u001b[0;34m(\u001b[0m\u001b[0;34m\"nrows\"\u001b[0m\u001b[0;34m,\u001b[0m \u001b[0mnrows\u001b[0m\u001b[0;34m)\u001b[0m\u001b[0;34m\u001b[0m\u001b[0;34m\u001b[0m\u001b[0m\n\u001b[0;32m-> 1154\u001b[0;31m         \u001b[0mret\u001b[0m \u001b[0;34m=\u001b[0m \u001b[0mself\u001b[0m\u001b[0;34m.\u001b[0m\u001b[0m_engine\u001b[0m\u001b[0;34m.\u001b[0m\u001b[0mread\u001b[0m\u001b[0;34m(\u001b[0m\u001b[0mnrows\u001b[0m\u001b[0;34m)\u001b[0m\u001b[0;34m\u001b[0m\u001b[0;34m\u001b[0m\u001b[0m\n\u001b[0m\u001b[1;32m   1155\u001b[0m \u001b[0;34m\u001b[0m\u001b[0m\n\u001b[1;32m   1156\u001b[0m         \u001b[0;31m# May alter columns / col_dict\u001b[0m\u001b[0;34m\u001b[0m\u001b[0;34m\u001b[0m\u001b[0;34m\u001b[0m\u001b[0m\n",
      "\u001b[0;32m~/anaconda/envs/twitpol-env/lib/python3.7/site-packages/pandas/io/parsers.py\u001b[0m in \u001b[0;36mread\u001b[0;34m(self, nrows)\u001b[0m\n\u001b[1;32m   2057\u001b[0m     \u001b[0;32mdef\u001b[0m \u001b[0mread\u001b[0m\u001b[0;34m(\u001b[0m\u001b[0mself\u001b[0m\u001b[0;34m,\u001b[0m \u001b[0mnrows\u001b[0m\u001b[0;34m=\u001b[0m\u001b[0;32mNone\u001b[0m\u001b[0;34m)\u001b[0m\u001b[0;34m:\u001b[0m\u001b[0;34m\u001b[0m\u001b[0;34m\u001b[0m\u001b[0m\n\u001b[1;32m   2058\u001b[0m         \u001b[0;32mtry\u001b[0m\u001b[0;34m:\u001b[0m\u001b[0;34m\u001b[0m\u001b[0;34m\u001b[0m\u001b[0m\n\u001b[0;32m-> 2059\u001b[0;31m             \u001b[0mdata\u001b[0m \u001b[0;34m=\u001b[0m \u001b[0mself\u001b[0m\u001b[0;34m.\u001b[0m\u001b[0m_reader\u001b[0m\u001b[0;34m.\u001b[0m\u001b[0mread\u001b[0m\u001b[0;34m(\u001b[0m\u001b[0mnrows\u001b[0m\u001b[0;34m)\u001b[0m\u001b[0;34m\u001b[0m\u001b[0;34m\u001b[0m\u001b[0m\n\u001b[0m\u001b[1;32m   2060\u001b[0m         \u001b[0;32mexcept\u001b[0m \u001b[0mStopIteration\u001b[0m\u001b[0;34m:\u001b[0m\u001b[0;34m\u001b[0m\u001b[0;34m\u001b[0m\u001b[0m\n\u001b[1;32m   2061\u001b[0m             \u001b[0;32mif\u001b[0m \u001b[0mself\u001b[0m\u001b[0;34m.\u001b[0m\u001b[0m_first_chunk\u001b[0m\u001b[0;34m:\u001b[0m\u001b[0;34m\u001b[0m\u001b[0;34m\u001b[0m\u001b[0m\n",
      "\u001b[0;32mpandas/_libs/parsers.pyx\u001b[0m in \u001b[0;36mpandas._libs.parsers.TextReader.read\u001b[0;34m()\u001b[0m\n",
      "\u001b[0;32mpandas/_libs/parsers.pyx\u001b[0m in \u001b[0;36mpandas._libs.parsers.TextReader._read_low_memory\u001b[0;34m()\u001b[0m\n",
      "\u001b[0;32mpandas/_libs/parsers.pyx\u001b[0m in \u001b[0;36mpandas._libs.parsers.TextReader._read_rows\u001b[0;34m()\u001b[0m\n",
      "\u001b[0;32mpandas/_libs/parsers.pyx\u001b[0m in \u001b[0;36mpandas._libs.parsers.TextReader._tokenize_rows\u001b[0;34m()\u001b[0m\n",
      "\u001b[0;32mpandas/_libs/parsers.pyx\u001b[0m in \u001b[0;36mpandas._libs.parsers.raise_parser_error\u001b[0;34m()\u001b[0m\n",
      "\u001b[0;31mParserError\u001b[0m: Error tokenizing data. C error: Buffer overflow caught - possible malformed input file.\n"
     ]
    }
   ],
   "source": [
    "pd.read_csv(config.DATA / 'processed' / 'tweets_matched.csv').head()"
   ]
  },
  {
   "cell_type": "code",
   "execution_count": null,
   "metadata": {},
   "outputs": [],
   "source": []
  }
 ],
 "metadata": {
  "kernelspec": {
   "display_name": "Python 3",
   "language": "python",
   "name": "python3"
  },
  "language_info": {
   "codemirror_mode": {
    "name": "ipython",
    "version": 3
   },
   "file_extension": ".py",
   "mimetype": "text/x-python",
   "name": "python",
   "nbconvert_exporter": "python",
   "pygments_lexer": "ipython3",
   "version": "3.7.5"
  }
 },
 "nbformat": 4,
 "nbformat_minor": 2
}
