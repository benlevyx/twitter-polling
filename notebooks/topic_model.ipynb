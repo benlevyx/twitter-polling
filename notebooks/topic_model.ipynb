{
 "cells": [
  {
   "cell_type": "code",
   "execution_count": 49,
   "metadata": {},
   "outputs": [
    {
     "name": "stdout",
     "output_type": "stream",
     "text": [
      "The autoreload extension is already loaded. To reload it, use:\n",
      "  %reload_ext autoreload\n"
     ]
    }
   ],
   "source": [
    "import sys\n",
    "import random\n",
    "from pprint import pprint\n",
    "\n",
    "import pandas as pd\n",
    "import pyLDAvis\n",
    "\n",
    "from twitpol import config, language, topic_modelling\n",
    "\n",
    "if '..' not in sys.path:\n",
    "    sys.path.append('..')\n",
    "    \n",
    "from src.supp_analysis import topic_modelling_and_collocation as tmac\n",
    "\n",
    "%load_ext autoreload\n",
    "%autoreload 2"
   ]
  },
  {
   "cell_type": "code",
   "execution_count": 11,
   "metadata": {},
   "outputs": [
    {
     "name": "stdout",
     "output_type": "stream",
     "text": [
      "The autoreload extension is already loaded. To reload it, use:\n",
      "  %reload_ext autoreload\n"
     ]
    }
   ],
   "source": [
    "\n",
    "%load_ext autoreload\n",
    "%autoreload 2"
   ]
  },
  {
   "cell_type": "code",
   "execution_count": 2,
   "metadata": {},
   "outputs": [],
   "source": [
    "nlp = language.get_nlp()"
   ]
  },
  {
   "cell_type": "code",
   "execution_count": 3,
   "metadata": {},
   "outputs": [
    {
     "name": "stderr",
     "output_type": "stream",
     "text": [
      "/Users/benjaminlevy/anaconda/envs/twitpol-env/lib/python3.7/site-packages/numpy/lib/arraysetops.py:568: FutureWarning: elementwise comparison failed; returning scalar instead, but in the future will perform elementwise comparison\n",
      "  mask |= (ar1 == a)\n"
     ]
    },
    {
     "name": "stdout",
     "output_type": "stream",
     "text": [
      "(3979785, 4)\n"
     ]
    }
   ],
   "source": [
    "corpus = tmac.load_corpus()"
   ]
  },
  {
   "cell_type": "code",
   "execution_count": 4,
   "metadata": {},
   "outputs": [
    {
     "data": {
      "text/html": [
       "<div>\n",
       "<style scoped>\n",
       "    .dataframe tbody tr th:only-of-type {\n",
       "        vertical-align: middle;\n",
       "    }\n",
       "\n",
       "    .dataframe tbody tr th {\n",
       "        vertical-align: top;\n",
       "    }\n",
       "\n",
       "    .dataframe thead th {\n",
       "        text-align: right;\n",
       "    }\n",
       "</style>\n",
       "<table border=\"1\" class=\"dataframe\">\n",
       "  <thead>\n",
       "    <tr style=\"text-align: right;\">\n",
       "      <th></th>\n",
       "      <th>tweet</th>\n",
       "      <th>nlikes</th>\n",
       "      <th>DateTime</th>\n",
       "      <th>Sentiment</th>\n",
       "    </tr>\n",
       "  </thead>\n",
       "  <tbody>\n",
       "    <tr>\n",
       "      <th>0</th>\n",
       "      <td>Yes, I agree the workday should be shortened, ...</td>\n",
       "      <td>1.0</td>\n",
       "      <td>2019-11-07</td>\n",
       "      <td>0.503561</td>\n",
       "    </tr>\n",
       "    <tr>\n",
       "      <th>1</th>\n",
       "      <td>People think that businesses care more about p...</td>\n",
       "      <td>4.0</td>\n",
       "      <td>2019-11-07</td>\n",
       "      <td>0.740527</td>\n",
       "    </tr>\n",
       "    <tr>\n",
       "      <th>2</th>\n",
       "      <td>@amyklobuchar is rising, surging past Kamala H...</td>\n",
       "      <td>0.0</td>\n",
       "      <td>2019-11-07</td>\n",
       "      <td>0.909588</td>\n",
       "    </tr>\n",
       "    <tr>\n",
       "      <th>3</th>\n",
       "      <td>I truly hope so. All this outrage and fake hea...</td>\n",
       "      <td>1.0</td>\n",
       "      <td>2019-11-07</td>\n",
       "      <td>0.222077</td>\n",
       "    </tr>\n",
       "    <tr>\n",
       "      <th>4</th>\n",
       "      <td>She did, and I like Kamala. But @JulianCastro ...</td>\n",
       "      <td>244.0</td>\n",
       "      <td>2019-11-07</td>\n",
       "      <td>0.544374</td>\n",
       "    </tr>\n",
       "  </tbody>\n",
       "</table>\n",
       "</div>"
      ],
      "text/plain": [
       "                                               tweet  nlikes    DateTime  \\\n",
       "0  Yes, I agree the workday should be shortened, ...     1.0  2019-11-07   \n",
       "1  People think that businesses care more about p...     4.0  2019-11-07   \n",
       "2  @amyklobuchar is rising, surging past Kamala H...     0.0  2019-11-07   \n",
       "3  I truly hope so. All this outrage and fake hea...     1.0  2019-11-07   \n",
       "4  She did, and I like Kamala. But @JulianCastro ...   244.0  2019-11-07   \n",
       "\n",
       "   Sentiment  \n",
       "0   0.503561  \n",
       "1   0.740527  \n",
       "2   0.909588  \n",
       "3   0.222077  \n",
       "4   0.544374  "
      ]
     },
     "execution_count": 4,
     "metadata": {},
     "output_type": "execute_result"
    }
   ],
   "source": [
    "corpus.head()"
   ]
  },
  {
   "cell_type": "code",
   "execution_count": 5,
   "metadata": {},
   "outputs": [
    {
     "name": "stderr",
     "output_type": "stream",
     "text": [
      "\r",
      "  0%|          | 0/3979785 [00:00<?, ?it/s]"
     ]
    },
    {
     "name": "stdout",
     "output_type": "stream",
     "text": [
      "Checking if tweets match SANDERS\n"
     ]
    },
    {
     "name": "stderr",
     "output_type": "stream",
     "text": [
      "100%|██████████| 3979785/3979785 [00:08<00:00, 445930.42it/s]\n",
      "  0%|          | 1367/3979785 [00:00<04:51, 13669.72it/s]"
     ]
    },
    {
     "name": "stdout",
     "output_type": "stream",
     "text": [
      "Checking if tweets match HARRIS\n"
     ]
    },
    {
     "name": "stderr",
     "output_type": "stream",
     "text": [
      "100%|██████████| 3979785/3979785 [00:07<00:00, 514209.63it/s]\n",
      "  0%|          | 1/3979785 [00:00<118:23:27,  9.34it/s]"
     ]
    },
    {
     "name": "stdout",
     "output_type": "stream",
     "text": [
      "Checking if tweets match BIDEN\n"
     ]
    },
    {
     "name": "stderr",
     "output_type": "stream",
     "text": [
      "100%|██████████| 3979785/3979785 [00:07<00:00, 525742.09it/s]\n",
      "  0%|          | 1/3979785 [00:00<112:27:40,  9.83it/s]"
     ]
    },
    {
     "name": "stdout",
     "output_type": "stream",
     "text": [
      "Checking if tweets match BUTTIGIEG\n"
     ]
    },
    {
     "name": "stderr",
     "output_type": "stream",
     "text": [
      "100%|██████████| 3979785/3979785 [00:07<00:00, 510885.66it/s]\n",
      "  0%|          | 1/3979785 [00:00<210:41:07,  5.25it/s]"
     ]
    },
    {
     "name": "stdout",
     "output_type": "stream",
     "text": [
      "Checking if tweets match BOOKER\n"
     ]
    },
    {
     "name": "stderr",
     "output_type": "stream",
     "text": [
      "100%|██████████| 3979785/3979785 [00:09<00:00, 414510.38it/s]\n",
      "  0%|          | 1/3979785 [00:00<184:13:43,  6.00it/s]"
     ]
    },
    {
     "name": "stdout",
     "output_type": "stream",
     "text": [
      "Checking if tweets match OROURKE\n"
     ]
    },
    {
     "name": "stderr",
     "output_type": "stream",
     "text": [
      "100%|██████████| 3979785/3979785 [00:09<00:00, 437768.16it/s]\n",
      "  0%|          | 1/3979785 [00:00<133:17:10,  8.29it/s]"
     ]
    },
    {
     "name": "stdout",
     "output_type": "stream",
     "text": [
      "Checking if tweets match WARREN\n"
     ]
    },
    {
     "name": "stderr",
     "output_type": "stream",
     "text": [
      "100%|██████████| 3979785/3979785 [00:08<00:00, 497084.40it/s]\n"
     ]
    }
   ],
   "source": [
    "corpus = tmac.match_to_candidates(corpus)"
   ]
  },
  {
   "cell_type": "code",
   "execution_count": 6,
   "metadata": {},
   "outputs": [
    {
     "data": {
      "text/plain": [
       "77392"
      ]
     },
     "execution_count": 6,
     "metadata": {},
     "output_type": "execute_result"
    }
   ],
   "source": [
    "len(corpus[corpus['OROURKE']])"
   ]
  },
  {
   "cell_type": "code",
   "execution_count": 7,
   "metadata": {},
   "outputs": [
    {
     "data": {
      "text/html": [
       "<div>\n",
       "<style scoped>\n",
       "    .dataframe tbody tr th:only-of-type {\n",
       "        vertical-align: middle;\n",
       "    }\n",
       "\n",
       "    .dataframe tbody tr th {\n",
       "        vertical-align: top;\n",
       "    }\n",
       "\n",
       "    .dataframe thead th {\n",
       "        text-align: right;\n",
       "    }\n",
       "</style>\n",
       "<table border=\"1\" class=\"dataframe\">\n",
       "  <thead>\n",
       "    <tr style=\"text-align: right;\">\n",
       "      <th></th>\n",
       "      <th>tweet</th>\n",
       "      <th>SANDERS</th>\n",
       "      <th>HARRIS</th>\n",
       "      <th>BIDEN</th>\n",
       "      <th>BUTTIGIEG</th>\n",
       "      <th>BOOKER</th>\n",
       "      <th>OROURKE</th>\n",
       "      <th>WARREN</th>\n",
       "    </tr>\n",
       "  </thead>\n",
       "  <tbody>\n",
       "    <tr>\n",
       "      <th>494452</th>\n",
       "      <td>Wow...gutsy. Instead of actually refuting Gabb...</td>\n",
       "      <td>False</td>\n",
       "      <td>True</td>\n",
       "      <td>True</td>\n",
       "      <td>False</td>\n",
       "      <td>False</td>\n",
       "      <td>False</td>\n",
       "      <td>False</td>\n",
       "    </tr>\n",
       "    <tr>\n",
       "      <th>195353</th>\n",
       "      <td>Of course. That makes it easier for you to pre...</td>\n",
       "      <td>True</td>\n",
       "      <td>False</td>\n",
       "      <td>False</td>\n",
       "      <td>False</td>\n",
       "      <td>False</td>\n",
       "      <td>False</td>\n",
       "      <td>False</td>\n",
       "    </tr>\n",
       "    <tr>\n",
       "      <th>108761</th>\n",
       "      <td>Honestly except for Pete &amp; Bernie &amp; Tulsi I th...</td>\n",
       "      <td>True</td>\n",
       "      <td>False</td>\n",
       "      <td>False</td>\n",
       "      <td>False</td>\n",
       "      <td>False</td>\n",
       "      <td>True</td>\n",
       "      <td>True</td>\n",
       "    </tr>\n",
       "    <tr>\n",
       "      <th>752443</th>\n",
       "      <td>Making working class and poor people think tha...</td>\n",
       "      <td>False</td>\n",
       "      <td>False</td>\n",
       "      <td>False</td>\n",
       "      <td>False</td>\n",
       "      <td>False</td>\n",
       "      <td>False</td>\n",
       "      <td>False</td>\n",
       "    </tr>\n",
       "    <tr>\n",
       "      <th>616044</th>\n",
       "      <td>Ian as Kamala's campaign tanks.  pic.twitter.c...</td>\n",
       "      <td>False</td>\n",
       "      <td>True</td>\n",
       "      <td>False</td>\n",
       "      <td>False</td>\n",
       "      <td>False</td>\n",
       "      <td>False</td>\n",
       "      <td>False</td>\n",
       "    </tr>\n",
       "    <tr>\n",
       "      <th>173049</th>\n",
       "      <td>SUPPORT KAMALA HARRIS FOR THE PEOPLE ??? FOR T...</td>\n",
       "      <td>False</td>\n",
       "      <td>False</td>\n",
       "      <td>False</td>\n",
       "      <td>False</td>\n",
       "      <td>False</td>\n",
       "      <td>False</td>\n",
       "      <td>False</td>\n",
       "    </tr>\n",
       "    <tr>\n",
       "      <th>121390</th>\n",
       "      <td>Joe Biden never spoke for me in American woman...</td>\n",
       "      <td>False</td>\n",
       "      <td>False</td>\n",
       "      <td>True</td>\n",
       "      <td>False</td>\n",
       "      <td>False</td>\n",
       "      <td>False</td>\n",
       "      <td>False</td>\n",
       "    </tr>\n",
       "    <tr>\n",
       "      <th>443811</th>\n",
       "      <td>Wow Pete can prevent hail, holy shit!</td>\n",
       "      <td>False</td>\n",
       "      <td>False</td>\n",
       "      <td>False</td>\n",
       "      <td>False</td>\n",
       "      <td>False</td>\n",
       "      <td>False</td>\n",
       "      <td>False</td>\n",
       "    </tr>\n",
       "    <tr>\n",
       "      <th>94985</th>\n",
       "      <td>After all the high falutin from her about this...</td>\n",
       "      <td>False</td>\n",
       "      <td>False</td>\n",
       "      <td>False</td>\n",
       "      <td>False</td>\n",
       "      <td>False</td>\n",
       "      <td>False</td>\n",
       "      <td>True</td>\n",
       "    </tr>\n",
       "    <tr>\n",
       "      <th>746254</th>\n",
       "      <td>I don't say this often but SNL totally nailed ...</td>\n",
       "      <td>False</td>\n",
       "      <td>True</td>\n",
       "      <td>False</td>\n",
       "      <td>False</td>\n",
       "      <td>False</td>\n",
       "      <td>False</td>\n",
       "      <td>False</td>\n",
       "    </tr>\n",
       "  </tbody>\n",
       "</table>\n",
       "</div>"
      ],
      "text/plain": [
       "                                                    tweet  SANDERS  HARRIS  \\\n",
       "494452  Wow...gutsy. Instead of actually refuting Gabb...    False    True   \n",
       "195353  Of course. That makes it easier for you to pre...     True   False   \n",
       "108761  Honestly except for Pete & Bernie & Tulsi I th...     True   False   \n",
       "752443  Making working class and poor people think tha...    False   False   \n",
       "616044  Ian as Kamala's campaign tanks.  pic.twitter.c...    False    True   \n",
       "173049  SUPPORT KAMALA HARRIS FOR THE PEOPLE ??? FOR T...    False   False   \n",
       "121390  Joe Biden never spoke for me in American woman...    False   False   \n",
       "443811              Wow Pete can prevent hail, holy shit!    False   False   \n",
       "94985   After all the high falutin from her about this...    False   False   \n",
       "746254  I don't say this often but SNL totally nailed ...    False    True   \n",
       "\n",
       "        BIDEN  BUTTIGIEG  BOOKER  OROURKE  WARREN  \n",
       "494452   True      False   False    False   False  \n",
       "195353  False      False   False    False   False  \n",
       "108761  False      False   False     True    True  \n",
       "752443  False      False   False    False   False  \n",
       "616044  False      False   False    False   False  \n",
       "173049  False      False   False    False   False  \n",
       "121390   True      False   False    False   False  \n",
       "443811  False      False   False    False   False  \n",
       "94985   False      False   False    False    True  \n",
       "746254  False      False   False    False   False  "
      ]
     },
     "execution_count": 7,
     "metadata": {},
     "output_type": "execute_result"
    }
   ],
   "source": [
    "corpus.sample(10)[['tweet', 'SANDERS', 'HARRIS', 'BIDEN', 'BUTTIGIEG', 'BOOKER', 'OROURKE', 'WARREN']]"
   ]
  },
  {
   "cell_type": "code",
   "execution_count": 31,
   "metadata": {},
   "outputs": [
    {
     "data": {
      "application/vnd.jupyter.widget-view+json": {
       "model_id": "d69d205246b94b81a2c9ec4f0c43eacf",
       "version_major": 2,
       "version_minor": 0
      },
      "text/plain": [
       "HBox(children=(FloatProgress(value=0.0, max=10000.0), HTML(value='')))"
      ]
     },
     "metadata": {},
     "output_type": "display_data"
    },
    {
     "name": "stdout",
     "output_type": "stream",
     "text": [
      "\n"
     ]
    }
   ],
   "source": [
    "sanders = corpus[corpus['SANDERS']].sample(10000)\n",
    "docs = language.make_docs(sanders['tweet'], nlp, notebook=True)"
   ]
  },
  {
   "cell_type": "code",
   "execution_count": 39,
   "metadata": {},
   "outputs": [
    {
     "data": {
      "text/plain": [
       "['well',\n",
       " 'pay',\n",
       " 'tax',\n",
       " 'increase',\n",
       " 'not',\n",
       " 'good',\n",
       " 'off',\n",
       " '\\n\\n ',\n",
       " 'watch',\n",
       " '\\n\\n ',\n",
       " 'well',\n",
       " 'nevermind',\n",
       " 'bernie',\n",
       " '0',\n",
       " 'chance',\n",
       " 'become',\n",
       " 'president']"
      ]
     },
     "execution_count": 39,
     "metadata": {},
     "output_type": "execute_result"
    }
   ],
   "source": [
    "random.choice(docs)"
   ]
  },
  {
   "cell_type": "code",
   "execution_count": 40,
   "metadata": {},
   "outputs": [],
   "source": [
    "bow, vocab = topic_modelling.make_bow(docs)"
   ]
  },
  {
   "cell_type": "code",
   "execution_count": 41,
   "metadata": {},
   "outputs": [],
   "source": [
    "model = topic_modelling.run_lda(bow, vocab, num_topics=10)"
   ]
  },
  {
   "cell_type": "code",
   "execution_count": 42,
   "metadata": {},
   "outputs": [
    {
     "data": {
      "text/plain": [
       "[(0,\n",
       "  '0.064*\"bernie\" + 0.045*\"  \" + 0.031*\"sanders\" + 0.027*\"   \" + 0.020*\"biden\" + 0.019*\"warren\" + 0.016*\"not\" + 0.013*\"joe\" + 0.012*\"\\n\\n \" + 0.010*\"elizabeth\"'),\n",
       " (1,\n",
       "  '0.053*\"   \" + 0.049*\"  \" + 0.032*\"bernie\" + 0.015*\"@berniesander\" + 0.014*\"sanders\" + 0.008*\"0\" + 0.007*\"credit\" + 0.007*\"union\" + 0.006*\"15\" + 0.006*\"wage\"'),\n",
       " (2,\n",
       "  '0.041*\"$\" + 0.022*\"bernie\" + 0.013*\"million\" + 0.011*\"’s\" + 0.009*\"donation\" + 0.008*\"child\" + 0.006*\"\\'s\" + 0.006*\"weekend\" + 0.006*\"war\" + 0.006*\"m\"'),\n",
       " (3,\n",
       "  '0.048*\"pete\" + 0.046*\"kamala\" + 0.041*\"\\n\\n \" + 0.035*\"harris\" + 0.033*\"warren\" + 0.027*\"beto\" + 0.023*\"buttigieg\" + 0.023*\"biden\" + 0.021*\"elizabeth\" + 0.019*\"mayor\"'),\n",
       " (4,\n",
       "  '0.058*\"bernie\" + 0.046*\"not\" + 0.014*\"get\" + 0.013*\"\\n\\n \" + 0.012*\"go\" + 0.011*\"like\" + 0.011*\"people\" + 0.010*\"would\" + 0.010*\"want\" + 0.009*\"  \"'),\n",
       " (5,\n",
       "  '0.075*\"bernie\" + 0.046*\"not\" + 0.018*\"  \" + 0.016*\"like\" + 0.011*\"people\" + 0.011*\"say\" + 0.010*\"would\" + 0.010*\"no\" + 0.010*\"\\'s\" + 0.009*\"support\"'),\n",
       " (6,\n",
       "  '0.052*\"vote\" + 0.038*\"bernie\" + 0.027*\"trump\" + 0.020*\"hillary\" + 0.013*\"primary\" + 0.012*\"not\" + 0.012*\"win\" + 0.011*\"voter\" + 0.008*\"election\" + 0.008*\"clinton\"'),\n",
       " (7,\n",
       "  '0.073*\"@berniesander\" + 0.033*\"@ewarren\" + 0.026*\"@berniesanders\" + 0.022*\"@joebiden\" + 0.021*\"@kamalaharris\" + 0.017*\"   \" + 0.016*\"@aoc\" + 0.013*\"@realdonaldtrump\" + 0.011*\"@corybooker\" + 0.009*\"@dnc\"'),\n",
       " (8,\n",
       "  '0.008*\"attend\" + 0.008*\"rhetoric\" + 0.008*\"status\" + 0.007*\"protect\" + 0.007*\"hypocrite\" + 0.007*\"law\" + 0.007*\"immigration\" + 0.006*\"racism\" + 0.006*\"notice\" + 0.006*\"dayton\"'),\n",
       " (9,\n",
       "  '0.019*\"de\" + 0.009*\"fund\" + 0.009*\"bernie2020\" + 0.008*\"el\" + 0.008*\"y\" + 0.008*\"feelthebern\" + 0.007*\"@berniesander\" + 0.007*\"profit\" + 0.007*\"en\" + 0.007*\"single\"')]"
      ]
     },
     "execution_count": 42,
     "metadata": {},
     "output_type": "execute_result"
    }
   ],
   "source": [
    "model.print_topics()"
   ]
  },
  {
   "cell_type": "markdown",
   "metadata": {},
   "source": [
    "Now for Harris"
   ]
  },
  {
   "cell_type": "code",
   "execution_count": 47,
   "metadata": {},
   "outputs": [
    {
     "data": {
      "application/vnd.jupyter.widget-view+json": {
       "model_id": "f61eafa37c444d3a96491abf8bb23f5f",
       "version_major": 2,
       "version_minor": 0
      },
      "text/plain": [
       "HBox(children=(FloatProgress(value=0.0, max=10000.0), HTML(value='')))"
      ]
     },
     "metadata": {},
     "output_type": "display_data"
    },
    {
     "name": "stdout",
     "output_type": "stream",
     "text": [
      "\n",
      "[\"c'mon\", 'kamala', '  ', 'pic.twitter.com/192lir5fga']\n",
      "[(0,\n",
      "  '0.047*\"kamala\" + 0.041*\"harris\" + 0.039*\"warren\" + 0.032*\"elizabeth\" + '\n",
      "  '0.030*\"biden\" + 0.029*\"bernie\" + 0.027*\"pete\" + 0.024*\"joe\" + '\n",
      "  '0.020*\"sanders\" + 0.019*\"  \"'),\n",
      " (1,\n",
      "  '0.058*\"kamala\" + 0.025*\"not\" + 0.015*\"get\" + 0.012*\"harris\" + 0.010*\"like\" '\n",
      "  '+ 0.010*\"candidate\" + 0.010*\"warren\" + 0.009*\"go\" + 0.009*\"support\" + '\n",
      "  '0.008*\"need\"'),\n",
      " (2,\n",
      "  '0.066*\"kamala\" + 0.059*\"not\" + 0.023*\"would\" + 0.018*\"like\" + 0.017*\"think\" '\n",
      "  '+ 0.014*\"harris\" + 0.014*\"biden\" + 0.014*\"good\" + 0.013*\"trump\" + '\n",
      "  '0.013*\"know\"'),\n",
      " (3,\n",
      "  '0.012*\"sex\" + 0.011*\"states\" + 0.011*\"united\" + 0.010*\"team\" + '\n",
      "  '0.010*\"propose\" + 0.010*\"=\" + 0.008*\"defeat\" + 0.008*\"wake\" + 0.006*\"knee\" '\n",
      "  '+ 0.006*\"crisis\"'),\n",
      " (4,\n",
      "  '0.042*\"  \" + 0.039*\"\\xa0  \" + 0.029*\"via\" + 0.027*\"@kamalaharris\" + '\n",
      "  '0.023*\"kamala\" + 0.022*\"   \" + 0.020*\"$\" + 0.013*\"harris\" + '\n",
      "  '0.012*\"@youtube\" + 0.011*\"@ewarren\"'),\n",
      " (5,\n",
      "  '0.011*\"kamala\" + 0.010*\"de\" + 0.010*\"la\" + 0.009*\"female\" + 0.007*\"y\" + '\n",
      "  '0.006*\" \\n'\n",
      "  ' \" + 0.005*\"  \" + 0.005*\"town\" + 0.005*\"’s\" + 0.005*\"hall\"'),\n",
      " (6,\n",
      "  '0.027*\"khan\" + 0.022*\"marvel\" + 0.013*\"ms\" + 0.013*\"character\" + '\n",
      "  '0.011*\"ready\" + 0.011*\"kamala\" + 0.009*\"die\" + 0.009*\"crowd\" + 0.009*\"0\" + '\n",
      "  '0.009*\"avengers\"'),\n",
      " (7,\n",
      "  '0.071*\"kamala\" + 0.048*\"  \" + 0.034*\"harris\" + 0.028*\"   \" + 0.021*\"not\" + '\n",
      "  '0.012*\"\\'s\" + 0.012*\"trump\" + 0.008*\"go\" + 0.007*\"people\" + 0.007*\"say\"'),\n",
      " (8,\n",
      "  '0.087*\"kamala\" + 0.062*\"  \" + 0.043*\"harris\" + 0.039*\"   \" + 0.012*\"not\" + '\n",
      "  '0.012*\"black\" + 0.007*\"’s\" + 0.006*\"american\" + 0.006*\"white\" + '\n",
      "  '0.006*\"people\"'),\n",
      " (9,\n",
      "  '0.049*\"kamala\" + 0.032*\"  \" + 0.025*\"harris\" + 0.022*\"   \" + 0.013*\"brown\" '\n",
      "  '+ 0.011*\"willie\" + 0.010*\"hillary\" + 0.009*\"lie\" + 0.008*\"clinton\" + '\n",
      "  '0.008*\"pelosi\"')]\n"
     ]
    }
   ],
   "source": [
    "harris = corpus[corpus['HARRIS']].sample(10000)\n",
    "docs_harris = language.make_docs(harris['tweet'], nlp, notebook=True)\n",
    "print(random.choice(docs_harris))\n",
    "bow_harris, vocab_harris = topic_modelling.make_bow(docs_harris)\n",
    "model_harris = topic_modelling.run_lda(bow_harris, vocab_harris, num_topics=10)\n",
    "pprint(model_harris.print_topics())"
   ]
  },
  {
   "cell_type": "code",
   "execution_count": 50,
   "metadata": {},
   "outputs": [],
   "source": [
    "pyLDAvis.enable_notebook()"
   ]
  },
  {
   "cell_type": "code",
   "execution_count": null,
   "metadata": {},
   "outputs": [],
   "source": [
    "pyLDAvis.gensim.prepare(model_harris, corpus_)"
   ]
  }
 ],
 "metadata": {
  "kernelspec": {
   "display_name": "Python 3",
   "language": "python",
   "name": "python3"
  }
 },
 "nbformat": 4,
 "nbformat_minor": 2
}
