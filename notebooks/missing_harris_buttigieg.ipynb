{
 "cells": [
  {
   "cell_type": "code",
   "execution_count": 58,
   "metadata": {},
   "outputs": [],
   "source": [
    "import pandas as pd\n",
    "from IPython.display import display\n",
    "\n",
    "from twitpol import config"
   ]
  },
  {
   "cell_type": "code",
   "execution_count": 4,
   "metadata": {},
   "outputs": [
    {
     "name": "stdout",
     "output_type": "stream",
     "text": [
      "/Users/benjaminlevy/Desktop/Benjamin/School/19_20/Classes/ac209a/project/twitter-polling/data/queries/date_gaps/MissingDatesHarrisZero.csv\n",
      "/Users/benjaminlevy/Desktop/Benjamin/School/19_20/Classes/ac209a/project/twitter-polling/data/queries/date_gaps/MissingDatesButtigieg500.csv\n"
     ]
    }
   ],
   "source": [
    "date_gap_dir = (config.DATA / 'queries' / 'date_gaps')\n",
    "harris_csv = list(date_gap_dir.glob('*Harris*.csv'))[0]\n",
    "buttigieg_csv = list(date_gap_dir.glob('*Buttigieg*.csv'))[0]\n",
    "print(harris_csv)\n",
    "print(buttigieg_csv)"
   ]
  },
  {
   "cell_type": "code",
   "execution_count": 49,
   "metadata": {},
   "outputs": [],
   "source": [
    "df_harris = pd.read_csv(harris_csv, index_col=0)\n",
    "df_buttigieg = pd.read_csv(buttigieg_csv, index_col=0)"
   ]
  },
  {
   "cell_type": "code",
   "execution_count": 51,
   "metadata": {
    "scrolled": true
   },
   "outputs": [
    {
     "data": {
      "text/html": [
       "<div>\n",
       "<style scoped>\n",
       "    .dataframe tbody tr th:only-of-type {\n",
       "        vertical-align: middle;\n",
       "    }\n",
       "\n",
       "    .dataframe tbody tr th {\n",
       "        vertical-align: top;\n",
       "    }\n",
       "\n",
       "    .dataframe thead th {\n",
       "        text-align: right;\n",
       "    }\n",
       "</style>\n",
       "<table border=\"1\" class=\"dataframe\">\n",
       "  <thead>\n",
       "    <tr style=\"text-align: right;\">\n",
       "      <th></th>\n",
       "      <th>Date</th>\n",
       "    </tr>\n",
       "    <tr>\n",
       "      <th>id</th>\n",
       "      <th></th>\n",
       "    </tr>\n",
       "  </thead>\n",
       "  <tbody>\n",
       "    <tr>\n",
       "      <th>0</th>\n",
       "      <td>2019-04-05</td>\n",
       "    </tr>\n",
       "    <tr>\n",
       "      <th>1</th>\n",
       "      <td>2019-04-07</td>\n",
       "    </tr>\n",
       "    <tr>\n",
       "      <th>2</th>\n",
       "      <td>2019-04-08</td>\n",
       "    </tr>\n",
       "    <tr>\n",
       "      <th>3</th>\n",
       "      <td>2019-04-11</td>\n",
       "    </tr>\n",
       "    <tr>\n",
       "      <th>4</th>\n",
       "      <td>2019-04-12</td>\n",
       "    </tr>\n",
       "    <tr>\n",
       "      <th>5</th>\n",
       "      <td>2019-05-03</td>\n",
       "    </tr>\n",
       "    <tr>\n",
       "      <th>6</th>\n",
       "      <td>2019-05-18</td>\n",
       "    </tr>\n",
       "    <tr>\n",
       "      <th>7</th>\n",
       "      <td>2019-06-09</td>\n",
       "    </tr>\n",
       "    <tr>\n",
       "      <th>8</th>\n",
       "      <td>2019-07-06</td>\n",
       "    </tr>\n",
       "    <tr>\n",
       "      <th>9</th>\n",
       "      <td>2019-07-13</td>\n",
       "    </tr>\n",
       "  </tbody>\n",
       "</table>\n",
       "</div>"
      ],
      "text/plain": [
       "          Date\n",
       "id            \n",
       "0   2019-04-05\n",
       "1   2019-04-07\n",
       "2   2019-04-08\n",
       "3   2019-04-11\n",
       "4   2019-04-12\n",
       "5   2019-05-03\n",
       "6   2019-05-18\n",
       "7   2019-06-09\n",
       "8   2019-07-06\n",
       "9   2019-07-13"
      ]
     },
     "execution_count": 51,
     "metadata": {},
     "output_type": "execute_result"
    }
   ],
   "source": [
    "df_buttigieg.head(10)"
   ]
  },
  {
   "cell_type": "code",
   "execution_count": 87,
   "metadata": {},
   "outputs": [],
   "source": [
    "def streak_start_or_end(row):\n",
    "    row['start'] = (row['dt_prev'] != 1)\n",
    "    row['end'] = (row['dt_next'] != 1)\n",
    "    return row\n",
    "\n",
    "\n",
    "def find_streaks(df):\n",
    "    df = df.copy()\n",
    "    df['Date'] = pd.to_datetime(df['Date'])\n",
    "    df['next'] = df['Date'].shift(-1)\n",
    "    df['prev'] = df['Date'].shift(1)\n",
    "    df['dt_next'] = (df['next'] - df['Date']).apply(lambda x: int(x.days) if not pd.isnull(x) else 0)\n",
    "    df['dt_prev'] = (df['Date'] - df['prev']).apply(lambda x: int(x.days) if not pd.isnull(x) else 0)\n",
    "    df = df.apply(streak_start_or_end, axis=1)\n",
    "    \n",
    "    streaks = []\n",
    "    curr_streak = []\n",
    "    for idx, row in df[['Date', 'start', 'end']].iterrows():\n",
    "        date_, is_start, is_end = row\n",
    "        if is_start:\n",
    "            curr_streak.append(date_)\n",
    "        if is_end:\n",
    "            curr_streak.append(date_)\n",
    "            streaks.append(curr_streak)\n",
    "            curr_streak = []\n",
    "    \n",
    "    df_streaks = pd.DataFrame(streaks, columns=['start', 'end'])\n",
    "    \n",
    "    return df_streaks"
   ]
  },
  {
   "cell_type": "code",
   "execution_count": 91,
   "metadata": {},
   "outputs": [],
   "source": [
    "harris_streaks = find_streaks(df_harris)\n",
    "buttigieg_streaks = find_streaks(df_buttigieg)\n",
    "\n",
    "harris_streaks['name'] = 'HARRIS'\n",
    "buttigieg_streaks['name'] = 'BUTTIGIEG'\n",
    "\n",
    "df_all = pd.concat((harris_streaks, buttigieg_streaks), axis=0, sort=True)\n",
    "df_all = df_all[['start', 'end', 'name']]\n",
    "df_all.to_csv(date_gap_dir / 'harris_buttigieg_date_gaps.csv')"
   ]
  },
  {
   "cell_type": "code",
   "execution_count": null,
   "metadata": {},
   "outputs": [],
   "source": []
  }
 ],
 "metadata": {
  "kernelspec": {
   "display_name": "Python 3",
   "language": "python",
   "name": "python3"
  },
  "language_info": {
   "codemirror_mode": {
    "name": "ipython",
    "version": 3
   },
   "file_extension": ".py",
   "mimetype": "text/x-python",
   "name": "python",
   "nbconvert_exporter": "python",
   "pygments_lexer": "ipython3",
   "version": "3.7.5"
  }
 },
 "nbformat": 4,
 "nbformat_minor": 2
}
