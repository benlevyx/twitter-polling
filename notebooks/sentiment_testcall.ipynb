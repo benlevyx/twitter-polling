{
 "cells": [
  {
   "cell_type": "code",
   "execution_count": 2,
   "metadata": {},
   "outputs": [
    {
     "name": "stdout",
     "output_type": "stream",
     "text": [
      "WARNING:tensorflow:From /Users/dvamvou/anaconda3/envs/ds/lib/python3.7/site-packages/tensorflow/python/ops/resource_variable_ops.py:435: colocate_with (from tensorflow.python.framework.ops) is deprecated and will be removed in a future version.\n",
      "Instructions for updating:\n",
      "Colocations handled automatically by placer.\n"
     ]
    },
    {
     "data": {
      "text/plain": [
       "array([[0.2985455 ],\n",
       "       [0.03816813],\n",
       "       [0.53691334],\n",
       "       [0.4703001 ],\n",
       "       [0.34980685],\n",
       "       [0.8189743 ],\n",
       "       [0.23468658],\n",
       "       [0.6739676 ],\n",
       "       [0.98712933],\n",
       "       [0.14043978],\n",
       "       [0.88183093],\n",
       "       [0.36176586],\n",
       "       [0.04026371],\n",
       "       [0.9256844 ],\n",
       "       [0.76477414],\n",
       "       [0.3357069 ],\n",
       "       [0.1655243 ],\n",
       "       [0.978135  ],\n",
       "       [0.89424205],\n",
       "       [0.76512647],\n",
       "       [0.89424205],\n",
       "       [0.36255732],\n",
       "       [0.325813  ],\n",
       "       [0.9277678 ]], dtype=float32)"
      ]
     },
     "execution_count": 2,
     "metadata": {},
     "output_type": "execute_result"
    }
   ],
   "source": [
    "from twitpol import sentiment as sent\n",
    "\n",
    "political_tweets = [\"You will come in 4th in New Hampshire in February and withdraw in shame. But don't worry... you can use Waze to get back to Massachusetts. You remember Mass., don't you\",\n",
    "                   \"You Can NEVER EARN My Vote ! \",\n",
    "                   \"’ll donate 0. Go home.\",\n",
    "                   \"You are not a true progressive.\",\n",
    "                   \"That’s like throwing cash on the floor and pissing on it!\",\n",
    "                   \"'m a continuing contributor and have been since the day she announced. Every Plan that comes out: showing how it is needed, how it is paid for and how it will increase economic growth in a Green Economy - makes me proud to support her all the way to the White House!\",\n",
    "                   \"Your toes? Yuck, no thanks\",\n",
    "                   \"God bless him . @PeteButtigieg by far the most honest and innovative candidate with real solutions to our Problems  !!!!\",\n",
    "                   \"Go Warren I'm proud of you\",\n",
    "                   \"You are bad\",\n",
    "                   \"you are a true fighter\",\n",
    "                   \"you are a liar!\",\n",
    "                   \"I do not support you\",\n",
    "                   \"I support you!\",\n",
    "                   \"Get out there and reach the people!! Out of all the democratic candidates I believe that your message can resonate with everyone. I trust you. Your logic and calm level headed approach reminds me of how politics should be. I want you to succeed.\",\n",
    "                   \"It’s not your time Pete. Drop out and run for Governor you’re doing more harm to the party than good.\",\n",
    "                    \"Hell No!\",\n",
    "                    \"You're amazing. You're qualified, and you're ready\",\n",
    "                    \"by far the most honest and innovative candidate with real solutions\",\n",
    "                    \"HE IS PROGRESSIVE\",\n",
    "                    \"by far the most honest and innovative candidate with real solutions\",\n",
    "                    \"Yeah it's called lying she does it very well if you don't remember correctly last year she was a native American off with her head she is the scum of the Earth\",\n",
    "                    \"0 votes for you during those elections\"\n",
    "                    \"Yes, somehow you war criminals manage to get away with it every time.\",\n",
    "                    \"Get 'em Joe.\"\n",
    "                   ]\n",
    "sent.predict_sentiment(political_tweets)"
   ]
  },
  {
   "cell_type": "code",
   "execution_count": null,
   "metadata": {},
   "outputs": [],
   "source": []
  }
 ],
 "metadata": {
  "kernelspec": {
   "display_name": "Python 3",
   "language": "python",
   "name": "python3"
  },
  "language_info": {
   "codemirror_mode": {
    "name": "ipython",
    "version": 3
   },
   "file_extension": ".py",
   "mimetype": "text/x-python",
   "name": "python",
   "nbconvert_exporter": "python",
   "pygments_lexer": "ipython3",
   "version": "3.7.4"
  }
 },
 "nbformat": 4,
 "nbformat_minor": 2
}
