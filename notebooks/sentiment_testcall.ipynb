{
 "cells": [
  {
   "cell_type": "code",
   "execution_count": 6,
   "metadata": {},
   "outputs": [
    {
     "data": {
      "text/plain": [
       "array([[0.38403434],\n",
       "       [0.06702909],\n",
       "       [0.60722303],\n",
       "       [0.5376567 ],\n",
       "       [0.12861359],\n",
       "       [0.90411246],\n",
       "       [0.1702188 ],\n",
       "       [0.95817935],\n",
       "       [0.9737821 ],\n",
       "       [0.18984088],\n",
       "       [0.90116376],\n",
       "       [0.54065055],\n",
       "       [0.1246095 ],\n",
       "       [0.89809173],\n",
       "       [0.72277564],\n",
       "       [0.5394524 ],\n",
       "       [0.1876773 ],\n",
       "       [0.94547516],\n",
       "       [0.92544234],\n",
       "       [0.8264282 ],\n",
       "       [0.92544234],\n",
       "       [0.39636624],\n",
       "       [0.2940721 ],\n",
       "       [0.8256264 ],\n",
       "       [0.26034173],\n",
       "       [0.24179156],\n",
       "       [0.0947751 ],\n",
       "       [0.09319414],\n",
       "       [0.32116115]], dtype=float32)"
      ]
     },
     "execution_count": 6,
     "metadata": {},
     "output_type": "execute_result"
    }
   ],
   "source": [
    "from twitpol import sentiment as sent\n",
    "\n",
    "political_tweets = [\"You will come in 4th in New Hampshire in February and withdraw in shame. But don't worry... you can use Waze to get back to Massachusetts. You remember Mass., don't you\",\n",
    "                   \"You Can NEVER EARN My Vote ! \",\n",
    "                   \"’ll donate 0. Go home.\",\n",
    "                   \"You are not a true progressive.\",\n",
    "                   \"That’s like throwing cash on the floor and pissing on it!\",\n",
    "                   \"'m a continuing contributor and have been since the day she announced. Every Plan that comes out: showing how it is needed, how it is paid for and how it will increase economic growth in a Green Economy - makes me proud to support her all the way to the White House!\",\n",
    "                   \"Your toes? Yuck, no thanks\",\n",
    "                   \"God bless him . @PeteButtigieg by far the most honest and innovative candidate with real solutions to our Problems  !!!!\",\n",
    "                   \"Go Warren I'm proud of you\",\n",
    "                   \"You are bad\",\n",
    "                   \"you are a true fighter\",\n",
    "                   \"you are a liar!\",\n",
    "                   \"I do not support you\",\n",
    "                   \"I support you!\",\n",
    "                   \"Get out there and reach the people!! Out of all the democratic candidates I believe that your message can resonate with everyone. I trust you. Your logic and calm level headed approach reminds me of how politics should be. I want you to succeed.\",\n",
    "                   \"It’s not your time Pete. Drop out and run for Governor you’re doing more harm to the party than good.\",\n",
    "                    \"Hell No!\",\n",
    "                    \"You're amazing. You're qualified, and you're ready\",\n",
    "                    \"by far the most honest and innovative candidate with real solutions\",\n",
    "                    \"HE IS PROGRESSIVE\",\n",
    "                    \"by far the most honest and innovative candidate with real solutions\",\n",
    "                    \"Yeah it's called lying she does it very well if you don't remember correctly last year she was a native American off with her head she is the scum of the Earth\",\n",
    "                    \"0 votes for you during those elections\"\n",
    "                    \"Yes, somehow you war criminals manage to get away with it every time.\",\n",
    "                    \"Get 'em Joe.\",\n",
    "                    \"That's what I always wanted to hear from president\",\n",
    "                    \"Pretentious\",\n",
    "                    \"I hope u have a plan for losing\",\n",
    "                    \"Boo! I am not going to pay for the freeloaders to have a place to live and health care.  My tax money needs spent on keeping USA safe and great. Like infrastructure military border security etc\",\n",
    "                    \"This isn’t national rent control standards no support for you liz\"\n",
    "                   ]\n",
    "sent.predict_sentiment(political_tweets)"
   ]
  },
  {
   "cell_type": "code",
   "execution_count": null,
   "metadata": {},
   "outputs": [],
   "source": []
  }
 ],
 "metadata": {
  "kernelspec": {
   "display_name": "Python 3",
   "language": "python",
   "name": "python3"
  },
  "language_info": {
   "codemirror_mode": {
    "name": "ipython",
    "version": 3
   },
   "file_extension": ".py",
   "mimetype": "text/x-python",
   "name": "python",
   "nbconvert_exporter": "python",
   "pygments_lexer": "ipython3",
   "version": "3.7.4"
  }
 },
 "nbformat": 4,
 "nbformat_minor": 2
}
