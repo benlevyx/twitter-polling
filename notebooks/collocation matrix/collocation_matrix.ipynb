{
 "cells": [
  {
   "cell_type": "code",
   "execution_count": 1,
   "metadata": {},
   "outputs": [],
   "source": [
    "from pprint import pprint\n",
    "\n",
    "import pandas as pd\n",
    "import numpy as np\n",
    "import matplotlib.pyplot as plt\n",
    "import seaborn as sns\n",
    "\n",
    "sns.set()\n",
    "\n",
    "from twitpol import config, utils\n",
    "\n",
    "%load_ext autoreload\n",
    "%autoreload 2"
   ]
  },
  {
   "cell_type": "code",
   "execution_count": 2,
   "metadata": {},
   "outputs": [],
   "source": [
    "data = pd.read_csv(config.DATA / 'collocation' / 'collocation_matrix.csv', index_col=0).values"
   ]
  },
  {
   "cell_type": "code",
   "execution_count": 3,
   "metadata": {},
   "outputs": [],
   "source": [
    "display_data = np.zeros_like(data)\n",
    "annot_data = np.zeros_like(data)\n",
    "for i in range(data.shape[0]):\n",
    "    annot_i = []\n",
    "    for j in range(data.shape[1]):\n",
    "        if i == j:\n",
    "            display_data[i, j] = 0\n",
    "            annot_data[i, j] = data[i, j]\n",
    "        else:\n",
    "            display_data[i, j] = data[i, j] / data[i, i]\n",
    "            annot_data[i, j] = display_data[i, j]"
   ]
  },
  {
   "cell_type": "code",
   "execution_count": 4,
   "metadata": {},
   "outputs": [],
   "source": [
    "cand_names = config.CANDIDATES"
   ]
  },
  {
   "cell_type": "code",
   "execution_count": null,
   "metadata": {},
   "outputs": [],
   "source": [
    "fig, ax = plt.subplots(figsize=(10, 10))\n",
    "sns.heatmap(display_data, cmap='Reds', annot=annot_data, square=True, xticklabels=cand_names, yticklabels=cand_names)\n",
    "ax.set_ylim(5, 0)\n",
    "ax.set_xlim(0, 5)\n",
    "plt.title(\"Tweets that contain references to two candidates.\\n(Diagonals show total tweets for that candidate)\")\n",
    "ax.set_ylabel(\"Out of all tweets that mention this candidate\")\n",
    "ax.set_xlabel(\"The percentage that also mention this candidate\")\n",
    "plt.savefig(config.FIGS / 'collocation' / 'collocation_matrix.png')\n",
    "plt.show()"
   ]
  },
  {
   "cell_type": "code",
   "execution_count": null,
   "metadata": {},
   "outputs": [],
   "source": []
  }
 ],
 "metadata": {
  "kernelspec": {
   "display_name": "Python 3",
   "language": "python",
   "name": "python3"
  },
  "language_info": {
   "codemirror_mode": {
    "name": "ipython",
    "version": 3
   },
   "file_extension": ".py",
   "mimetype": "text/x-python",
   "name": "python",
   "nbconvert_exporter": "python",
   "pygments_lexer": "ipython3",
   "version": "3.7.5"
  }
 },
 "nbformat": 4,
 "nbformat_minor": 2
}
